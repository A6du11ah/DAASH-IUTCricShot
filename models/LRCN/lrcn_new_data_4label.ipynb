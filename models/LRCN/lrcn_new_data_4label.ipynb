{
  "cells": [
    {
      "cell_type": "code",
      "execution_count": null,
      "metadata": {
        "colab": {
          "base_uri": "https://localhost:8080/"
        },
        "id": "DbCLwNadCRjv",
        "outputId": "bc594aa5-5286-4918-b3cb-6461ebbae35c"
      },
      "outputs": [
        {
          "output_type": "stream",
          "name": "stdout",
          "text": [
            "Mounted at /content/drive\n"
          ]
        }
      ],
      "source": [
        "from google.colab import drive\n",
        "drive.mount('/content/drive')\n"
      ]
    },
    {
      "cell_type": "code",
      "execution_count": null,
      "metadata": {
        "colab": {
          "base_uri": "https://localhost:8080/"
        },
        "id": "arLj7VLTo2aF",
        "outputId": "13a2433a-9f2f-4937-9ec3-b581842febc1"
      },
      "outputs": [
        {
          "output_type": "stream",
          "name": "stdout",
          "text": [
            "Requirement already satisfied: opencv-python-headless in /usr/local/lib/python3.10/dist-packages (4.10.0.84)\n",
            "Requirement already satisfied: numpy>=1.21.2 in /usr/local/lib/python3.10/dist-packages (from opencv-python-headless) (1.25.2)\n"
          ]
        }
      ],
      "source": [
        "!pip install opencv-python-headless"
      ]
    },
    {
      "cell_type": "code",
      "execution_count": null,
      "metadata": {
        "id": "uGhkeCqZo2dE"
      },
      "outputs": [],
      "source": [
        "import os\n",
        "import cv2\n",
        "import numpy as np\n",
        "\n",
        "def extract_frames(video_path, frame_count=10):\n",
        "    cap = cv2.VideoCapture(video_path)\n",
        "    frames = []\n",
        "    total_frames = int(cap.get(cv2.CAP_PROP_FRAME_COUNT))\n",
        "    interval = total_frames // frame_count\n",
        "\n",
        "    for i in range(frame_count):\n",
        "        cap.set(cv2.CAP_PROP_POS_FRAMES, i * interval)\n",
        "        ret, frame = cap.read()\n",
        "        if ret:\n",
        "            frame = cv2.resize(frame, (64, 64))\n",
        "            frames.append(frame)\n",
        "        else:\n",
        "            break\n",
        "    cap.release()\n",
        "    return np.array(frames)\n",
        "\n",
        "def load_data(data_dir):\n",
        "    X = []\n",
        "    y = []\n",
        "    labels = {'defense': 0, 'cover': 1, 'flick': 2, 'pull': 3}\n",
        "\n",
        "    for label in labels:\n",
        "        videos_dir = os.path.join(data_dir, label)\n",
        "        videos = os.listdir(videos_dir)\n",
        "        print(videos_dir)\n",
        "        for video in videos:\n",
        "            video_path = os.path.join(videos_dir, video)\n",
        "            frames = extract_frames(video_path)\n",
        "            if len(frames) == 10:\n",
        "                X.append(frames)\n",
        "                y.append(labels[label])\n",
        "\n",
        "    X = np.array(X)\n",
        "    y = np.array(y)\n",
        "    return X, y"
      ]
    },
    {
      "cell_type": "code",
      "source": [
        "data_dir = '/content/drive/My Drive/NewCroppedShot'\n",
        "X, y = load_data(data_dir)"
      ],
      "metadata": {
        "id": "4EA6D1eG-W0t"
      },
      "execution_count": null,
      "outputs": []
    },
    {
      "cell_type": "code",
      "execution_count": null,
      "metadata": {
        "id": "8I2qLP-DpP2b"
      },
      "outputs": [],
      "source": [
        "# from sklearn.model_selection import train_test_split\n",
        "\n",
        "# X_train, X_val, y_train, y_val = train_test_split(X, y, test_size=0.2, stratify=y, random_state=42)\n",
        "X_train = X\n",
        "X_val = X\n",
        "y_train = y\n",
        "y_val = y\n",
        "\n",
        "X_train = X_train / 255.0\n",
        "X_val = X_val / 255.0\n",
        "\n",
        "# (batch_size, time_steps, height, width, channels)\n",
        "X_train = np.reshape(X_train, (X_train.shape[0], 10, 64, 64, 3))\n",
        "X_val = np.reshape(X_val, (X_val.shape[0], 10, 64, 64, 3))\n",
        "\n"
      ]
    },
    {
      "cell_type": "code",
      "source": [
        "import tensorflow as tf\n",
        "from tensorflow.keras.models import Sequential\n",
        "from tensorflow.keras.layers import TimeDistributed, Conv2D, MaxPooling2D, Flatten, LSTM, Dense, Dropout\n",
        "\n",
        "def create_LRCN_model(input_shape):\n",
        "    model = Sequential()\n",
        "\n",
        "    # Layer 1\n",
        "    model.add(TimeDistributed(Conv2D(filters=16, kernel_size=(3, 3), activation='tanh', padding='same'), input_shape=input_shape))\n",
        "    model.add(TimeDistributed(MaxPooling2D((4, 4))))\n",
        "    model.add(TimeDistributed(Dropout(0.2)))\n",
        "\n",
        "    # Layer 2\n",
        "    model.add(TimeDistributed(Conv2D(32, (3, 3), activation='tanh', padding='same')))\n",
        "    model.add(TimeDistributed(MaxPooling2D((4, 4))))\n",
        "    model.add(TimeDistributed(Dropout(0.2)))\n",
        "\n",
        "    # Layer 3\n",
        "    model.add(TimeDistributed(Conv2D(64, (3, 3), activation='tanh', padding='same')))\n",
        "    model.add(TimeDistributed(MaxPooling2D((2, 2))))\n",
        "    model.add(TimeDistributed(Dropout(0.2)))\n",
        "\n",
        "    model.add(TimeDistributed(MaxPooling2D((2, 2))))\n",
        "\n",
        "    # Flatten the output\n",
        "    model.add(TimeDistributed(Flatten()))\n",
        "\n",
        "    # Dense Layer\n",
        "   # model.add(TimeDistributed(Dense(64, activation='relu')))\n",
        "\n",
        "    # LSTM Layer\n",
        "    model.add(LSTM(32))\n",
        "\n",
        "    # Output Layer\n",
        "    model.add(Dense(4, activation='softmax'))  # Assuming 4 classes for the output\n",
        "\n",
        "    # Compile the model\n",
        "    model.compile(loss='sparse_categorical_crossentropy', optimizer='adam', metrics=['accuracy'])\n",
        "\n",
        "    return model"
      ],
      "metadata": {
        "id": "FmDR8MaSKuaX"
      },
      "execution_count": null,
      "outputs": []
    },
    {
      "cell_type": "code",
      "execution_count": null,
      "metadata": {
        "colab": {
          "base_uri": "https://localhost:8080/"
        },
        "id": "4Q2l2jDGGwVI",
        "outputId": "2738d6a3-91d7-4eed-a61c-8ac5a2b64019"
      },
      "outputs": [
        {
          "output_type": "stream",
          "name": "stdout",
          "text": [
            "(10, 64, 64, 3)\n",
            "Model: \"sequential\"\n",
            "_________________________________________________________________\n",
            " Layer (type)                Output Shape              Param #   \n",
            "=================================================================\n",
            " time_distributed (TimeDist  (None, 10, 64, 64, 16)    448       \n",
            " ributed)                                                        \n",
            "                                                                 \n",
            " time_distributed_1 (TimeDi  (None, 10, 16, 16, 16)    0         \n",
            " stributed)                                                      \n",
            "                                                                 \n",
            " time_distributed_2 (TimeDi  (None, 10, 16, 16, 16)    0         \n",
            " stributed)                                                      \n",
            "                                                                 \n",
            " time_distributed_3 (TimeDi  (None, 10, 16, 16, 32)    4640      \n",
            " stributed)                                                      \n",
            "                                                                 \n",
            " time_distributed_4 (TimeDi  (None, 10, 4, 4, 32)      0         \n",
            " stributed)                                                      \n",
            "                                                                 \n",
            " time_distributed_5 (TimeDi  (None, 10, 4, 4, 32)      0         \n",
            " stributed)                                                      \n",
            "                                                                 \n",
            " time_distributed_6 (TimeDi  (None, 10, 4, 4, 64)      18496     \n",
            " stributed)                                                      \n",
            "                                                                 \n",
            " time_distributed_7 (TimeDi  (None, 10, 2, 2, 64)      0         \n",
            " stributed)                                                      \n",
            "                                                                 \n",
            " time_distributed_8 (TimeDi  (None, 10, 2, 2, 64)      0         \n",
            " stributed)                                                      \n",
            "                                                                 \n",
            " time_distributed_9 (TimeDi  (None, 10, 1, 1, 64)      0         \n",
            " stributed)                                                      \n",
            "                                                                 \n",
            " time_distributed_10 (TimeD  (None, 10, 64)            0         \n",
            " istributed)                                                     \n",
            "                                                                 \n",
            " lstm (LSTM)                 (None, 32)                12416     \n",
            "                                                                 \n",
            " dense (Dense)               (None, 4)                 132       \n",
            "                                                                 \n",
            "=================================================================\n",
            "Total params: 36132 (141.14 KB)\n",
            "Trainable params: 36132 (141.14 KB)\n",
            "Non-trainable params: 0 (0.00 Byte)\n",
            "_________________________________________________________________\n"
          ]
        }
      ],
      "source": [
        "input_shape = X_train.shape[1:]\n",
        "print(input_shape)\n",
        "model = create_LRCN_model(input_shape)\n",
        "\n",
        "#model_path = '/content/drive/My Drive/ShotDetection/LRCN_model.h5'\n",
        "\n",
        "# Load the model\n",
        "#model = tf.keras.models.load_model(model_path)\n",
        "\n",
        "model.summary()"
      ]
    },
    {
      "cell_type": "code",
      "execution_count": null,
      "metadata": {
        "colab": {
          "base_uri": "https://localhost:8080/"
        },
        "id": "JSY0FtbTpcIX",
        "outputId": "bdf85156-b11b-458a-aa73-16a4bcb72181"
      },
      "outputs": [
        {
          "output_type": "stream",
          "name": "stdout",
          "text": [
            "Epoch 1/50\n",
            "47/47 [==============================] - 26s 482ms/step - loss: 1.3939 - accuracy: 0.2733 - val_loss: 1.3759 - val_accuracy: 0.2476\n",
            "Epoch 2/50\n",
            "47/47 [==============================] - 27s 576ms/step - loss: 1.3612 - accuracy: 0.2991 - val_loss: 1.3641 - val_accuracy: 0.2788\n",
            "Epoch 3/50\n",
            "47/47 [==============================] - 28s 601ms/step - loss: 1.2515 - accuracy: 0.4357 - val_loss: 1.1770 - val_accuracy: 0.4993\n",
            "Epoch 4/50\n",
            "47/47 [==============================] - 26s 559ms/step - loss: 1.1210 - accuracy: 0.4655 - val_loss: 1.0507 - val_accuracy: 0.5115\n",
            "Epoch 5/50\n",
            "47/47 [==============================] - 21s 448ms/step - loss: 1.0944 - accuracy: 0.5250 - val_loss: 1.1004 - val_accuracy: 0.5129\n",
            "Epoch 6/50\n",
            "47/47 [==============================] - 23s 495ms/step - loss: 1.0217 - accuracy: 0.5589 - val_loss: 0.9467 - val_accuracy: 0.5995\n",
            "Epoch 7/50\n",
            "47/47 [==============================] - 21s 452ms/step - loss: 0.9707 - accuracy: 0.5548 - val_loss: 1.1822 - val_accuracy: 0.4885\n",
            "Epoch 8/50\n",
            "47/47 [==============================] - 27s 579ms/step - loss: 0.9745 - accuracy: 0.5859 - val_loss: 0.9160 - val_accuracy: 0.6130\n",
            "Epoch 9/50\n",
            "47/47 [==============================] - 23s 485ms/step - loss: 0.8672 - accuracy: 0.6265 - val_loss: 0.8219 - val_accuracy: 0.6698\n",
            "Epoch 10/50\n",
            "47/47 [==============================] - 21s 444ms/step - loss: 0.8416 - accuracy: 0.6441 - val_loss: 0.7611 - val_accuracy: 0.6820\n",
            "Epoch 11/50\n",
            "47/47 [==============================] - 26s 560ms/step - loss: 0.8476 - accuracy: 0.6563 - val_loss: 0.8029 - val_accuracy: 0.6698\n",
            "Epoch 12/50\n",
            "47/47 [==============================] - 39s 840ms/step - loss: 0.7175 - accuracy: 0.7172 - val_loss: 0.6784 - val_accuracy: 0.7429\n",
            "Epoch 13/50\n",
            "47/47 [==============================] - 21s 451ms/step - loss: 0.6801 - accuracy: 0.7185 - val_loss: 0.8018 - val_accuracy: 0.6982\n",
            "Epoch 14/50\n",
            "47/47 [==============================] - 23s 498ms/step - loss: 0.6646 - accuracy: 0.7429 - val_loss: 0.5539 - val_accuracy: 0.8051\n",
            "Epoch 15/50\n",
            "47/47 [==============================] - 21s 445ms/step - loss: 0.6388 - accuracy: 0.7429 - val_loss: 0.5151 - val_accuracy: 0.8254\n",
            "Epoch 16/50\n",
            "47/47 [==============================] - 26s 569ms/step - loss: 0.5751 - accuracy: 0.7848 - val_loss: 0.4617 - val_accuracy: 0.8579\n",
            "Epoch 17/50\n",
            "47/47 [==============================] - 21s 451ms/step - loss: 0.5253 - accuracy: 0.7984 - val_loss: 0.3762 - val_accuracy: 0.8904\n",
            "Epoch 18/50\n",
            "47/47 [==============================] - 27s 577ms/step - loss: 0.4598 - accuracy: 0.8322 - val_loss: 0.5838 - val_accuracy: 0.7876\n",
            "Epoch 19/50\n",
            "47/47 [==============================] - 23s 487ms/step - loss: 0.4379 - accuracy: 0.8349 - val_loss: 0.3546 - val_accuracy: 0.8701\n",
            "Epoch 20/50\n",
            "47/47 [==============================] - 22s 462ms/step - loss: 0.3748 - accuracy: 0.8552 - val_loss: 0.2303 - val_accuracy: 0.9472\n",
            "Epoch 21/50\n",
            "47/47 [==============================] - 23s 491ms/step - loss: 0.3542 - accuracy: 0.8728 - val_loss: 0.2587 - val_accuracy: 0.9296\n",
            "Epoch 22/50\n",
            "47/47 [==============================] - 23s 498ms/step - loss: 0.3169 - accuracy: 0.8904 - val_loss: 0.1864 - val_accuracy: 0.9581\n",
            "Epoch 23/50\n",
            "47/47 [==============================] - 22s 477ms/step - loss: 0.2680 - accuracy: 0.9202 - val_loss: 0.1657 - val_accuracy: 0.9594\n",
            "Epoch 24/50\n",
            "47/47 [==============================] - 21s 445ms/step - loss: 0.2992 - accuracy: 0.8945 - val_loss: 0.1797 - val_accuracy: 0.9526\n",
            "Epoch 25/50\n",
            "47/47 [==============================] - 27s 579ms/step - loss: 0.2423 - accuracy: 0.9202 - val_loss: 0.1290 - val_accuracy: 0.9689\n",
            "Epoch 26/50\n",
            "47/47 [==============================] - 26s 562ms/step - loss: 0.2376 - accuracy: 0.9107 - val_loss: 0.2132 - val_accuracy: 0.9229\n",
            "Epoch 27/50\n",
            "47/47 [==============================] - 21s 447ms/step - loss: 0.2317 - accuracy: 0.9215 - val_loss: 0.1094 - val_accuracy: 0.9811\n",
            "Epoch 28/50\n",
            "47/47 [==============================] - 23s 480ms/step - loss: 0.2608 - accuracy: 0.9093 - val_loss: 0.1452 - val_accuracy: 0.9635\n",
            "Epoch 29/50\n",
            "47/47 [==============================] - 21s 451ms/step - loss: 0.2357 - accuracy: 0.9202 - val_loss: 0.0844 - val_accuracy: 0.9878\n",
            "Epoch 30/50\n",
            "47/47 [==============================] - 23s 498ms/step - loss: 0.1768 - accuracy: 0.9364 - val_loss: 0.1008 - val_accuracy: 0.9743\n",
            "Epoch 31/50\n",
            "47/47 [==============================] - 21s 451ms/step - loss: 0.1772 - accuracy: 0.9378 - val_loss: 0.0748 - val_accuracy: 0.9851\n",
            "Epoch 32/50\n",
            "47/47 [==============================] - 27s 579ms/step - loss: 0.1499 - accuracy: 0.9553 - val_loss: 0.0820 - val_accuracy: 0.9892\n",
            "Epoch 33/50\n",
            "47/47 [==============================] - 24s 503ms/step - loss: 0.1454 - accuracy: 0.9499 - val_loss: 0.0500 - val_accuracy: 0.9905\n",
            "Epoch 34/50\n",
            "47/47 [==============================] - 21s 442ms/step - loss: 0.1288 - accuracy: 0.9662 - val_loss: 0.0808 - val_accuracy: 0.9770\n",
            "Epoch 35/50\n",
            "47/47 [==============================] - 23s 487ms/step - loss: 0.1910 - accuracy: 0.9296 - val_loss: 0.0430 - val_accuracy: 0.9973\n",
            "Epoch 36/50\n",
            "47/47 [==============================] - 21s 442ms/step - loss: 0.1517 - accuracy: 0.9432 - val_loss: 0.0458 - val_accuracy: 0.9973\n",
            "Epoch 37/50\n",
            "47/47 [==============================] - 23s 488ms/step - loss: 0.1095 - accuracy: 0.9702 - val_loss: 0.0288 - val_accuracy: 1.0000\n",
            "Epoch 38/50\n",
            "47/47 [==============================] - 21s 455ms/step - loss: 0.0855 - accuracy: 0.9783 - val_loss: 0.0226 - val_accuracy: 1.0000\n",
            "Epoch 39/50\n",
            "47/47 [==============================] - 26s 560ms/step - loss: 0.1057 - accuracy: 0.9702 - val_loss: 0.0777 - val_accuracy: 0.9770\n",
            "Epoch 40/50\n",
            "47/47 [==============================] - 26s 568ms/step - loss: 0.1175 - accuracy: 0.9621 - val_loss: 0.0712 - val_accuracy: 0.9729\n",
            "Epoch 41/50\n",
            "47/47 [==============================] - 21s 443ms/step - loss: 0.1255 - accuracy: 0.9540 - val_loss: 0.0433 - val_accuracy: 0.9946\n",
            "Epoch 42/50\n",
            "47/47 [==============================] - 23s 487ms/step - loss: 0.1045 - accuracy: 0.9635 - val_loss: 0.0505 - val_accuracy: 0.9851\n",
            "Epoch 43/50\n",
            "47/47 [==============================] - 23s 492ms/step - loss: 0.1038 - accuracy: 0.9648 - val_loss: 0.0497 - val_accuracy: 0.9905\n"
          ]
        }
      ],
      "source": [
        "from tensorflow.keras.callbacks import EarlyStopping\n",
        "\n",
        "early_stopping = EarlyStopping(monitor='val_loss', patience=5, restore_best_weights=True)\n",
        "\n",
        "history = model.fit(X_train, y_train, epochs=50, batch_size=16, validation_data=(X_val, y_val), callbacks=[early_stopping])"
      ]
    },
    {
      "cell_type": "code",
      "source": [
        "import matplotlib.pyplot as plt\n",
        "\n",
        "# Extract information from the history object\n",
        "acc = history.history['accuracy']\n",
        "val_acc = history.history['val_accuracy']\n",
        "loss = history.history['loss']\n",
        "val_loss = history.history['val_loss']\n",
        "epochs = range(len(acc))\n",
        "\n",
        "# Print history details\n",
        "print(\"Epochs:\", history.epoch)\n",
        "print(\"Params:\", history.params)\n",
        "print(\"Keys in history.history:\", history.history.keys())\n",
        "\n",
        "# Plot training vs. validation accuracy\n",
        "plt.figure(figsize=(12, 4))\n",
        "plt.subplot(1, 2, 1)\n",
        "plt.plot(epochs, acc, 'bo-', label='Training accuracy')\n",
        "plt.plot(epochs, val_acc, 'ro-', label='Validation accuracy')\n",
        "plt.title('Training and validation accuracy')\n",
        "plt.xlabel('Epochs')\n",
        "plt.ylabel('Accuracy')\n",
        "plt.legend()\n",
        "\n",
        "# Plot training vs. validation loss\n",
        "plt.subplot(1, 2, 2)\n",
        "plt.plot(epochs, loss, 'bo-', label='Training loss')\n",
        "plt.plot(epochs, val_loss, 'ro-', label='Validation loss')\n",
        "plt.title('Training and validation loss')\n",
        "plt.xlabel('Epochs')\n",
        "plt.ylabel('Loss')\n",
        "plt.legend()\n",
        "\n",
        "plt.tight_layout()\n",
        "plt.show()"
      ],
      "metadata": {
        "colab": {
          "base_uri": "https://localhost:8080/",
          "height": 211
        },
        "id": "mwGabeVMRGTP",
        "outputId": "55b5d4e9-17b3-4eb6-afd5-8f189d88fabd"
      },
      "execution_count": null,
      "outputs": [
        {
          "output_type": "error",
          "ename": "NameError",
          "evalue": "name 'history' is not defined",
          "traceback": [
            "\u001b[0;31m---------------------------------------------------------------------------\u001b[0m",
            "\u001b[0;31mNameError\u001b[0m                                 Traceback (most recent call last)",
            "\u001b[0;32m<ipython-input-3-7fe2e8531647>\u001b[0m in \u001b[0;36m<cell line: 4>\u001b[0;34m()\u001b[0m\n\u001b[1;32m      2\u001b[0m \u001b[0;34m\u001b[0m\u001b[0m\n\u001b[1;32m      3\u001b[0m \u001b[0;31m# Extract information from the history object\u001b[0m\u001b[0;34m\u001b[0m\u001b[0;34m\u001b[0m\u001b[0m\n\u001b[0;32m----> 4\u001b[0;31m \u001b[0macc\u001b[0m \u001b[0;34m=\u001b[0m \u001b[0mhistory\u001b[0m\u001b[0;34m.\u001b[0m\u001b[0mhistory\u001b[0m\u001b[0;34m[\u001b[0m\u001b[0;34m'accuracy'\u001b[0m\u001b[0;34m]\u001b[0m\u001b[0;34m\u001b[0m\u001b[0;34m\u001b[0m\u001b[0m\n\u001b[0m\u001b[1;32m      5\u001b[0m \u001b[0mval_acc\u001b[0m \u001b[0;34m=\u001b[0m \u001b[0mhistory\u001b[0m\u001b[0;34m.\u001b[0m\u001b[0mhistory\u001b[0m\u001b[0;34m[\u001b[0m\u001b[0;34m'val_accuracy'\u001b[0m\u001b[0;34m]\u001b[0m\u001b[0;34m\u001b[0m\u001b[0;34m\u001b[0m\u001b[0m\n\u001b[1;32m      6\u001b[0m \u001b[0mloss\u001b[0m \u001b[0;34m=\u001b[0m \u001b[0mhistory\u001b[0m\u001b[0;34m.\u001b[0m\u001b[0mhistory\u001b[0m\u001b[0;34m[\u001b[0m\u001b[0;34m'loss'\u001b[0m\u001b[0;34m]\u001b[0m\u001b[0;34m\u001b[0m\u001b[0;34m\u001b[0m\u001b[0m\n",
            "\u001b[0;31mNameError\u001b[0m: name 'history' is not defined"
          ]
        }
      ]
    },
    {
      "cell_type": "code",
      "source": [
        "import numpy as np\n",
        "from sklearn.metrics import precision_score, recall_score, f1_score, classification_report\n",
        "from sklearn.preprocessing import LabelBinarizer\n",
        "\n",
        "# Make predictions\n",
        "y_pred_prob = model.predict(X)\n",
        "y_pred = np.argmax(y_pred_prob, axis=1)\n",
        "\n",
        "# Calculate precision, recall, and F1 score\n",
        "precision = precision_score(y, y_pred, average='macro')\n",
        "recall = recall_score(y, y_pred, average='macro')\n",
        "f1 = f1_score(y, y_pred, average='macro')\n",
        "\n",
        "# Display the metrics\n",
        "print(f'Precision: {precision * 100:.2f}%')\n",
        "print(f'Recall: {recall * 100:.2f}%')\n",
        "print(f'F1 Score: {f1 * 100:.2f}%')\n",
        "\n",
        "# Detailed classification report\n",
        "print(\"\\nClassification Report:\\n\", classification_report(y, y_pred))"
      ],
      "metadata": {
        "colab": {
          "base_uri": "https://localhost:8080/"
        },
        "id": "X4j9PE_dl_Wj",
        "outputId": "ecf67cbe-da43-4c43-dac7-f8975b8afbf1"
      },
      "execution_count": null,
      "outputs": [
        {
          "output_type": "stream",
          "name": "stdout",
          "text": [
            "24/24 [==============================] - 6s 253ms/step\n",
            "Precision: 72.91%\n",
            "Recall: 35.15%\n",
            "F1 Score: 26.46%\n",
            "\n",
            "Classification Report:\n",
            "               precision    recall  f1-score   support\n",
            "\n",
            "           0       0.91      0.05      0.10       192\n",
            "           1       0.28      0.95      0.44       187\n",
            "           2       1.00      0.01      0.01       181\n",
            "           3       0.72      0.40      0.51       179\n",
            "\n",
            "    accuracy                           0.35       739\n",
            "   macro avg       0.73      0.35      0.26       739\n",
            "weighted avg       0.73      0.35      0.26       739\n",
            "\n"
          ]
        }
      ]
    },
    {
      "cell_type": "code",
      "source": [
        "model.save('/content/drive/My Drive/NewCroppedShot/lrcn-new-data-tuned-model-4label-max.keras')"
      ],
      "metadata": {
        "id": "dxRHvsduMUDU"
      },
      "execution_count": null,
      "outputs": []
    },
    {
      "cell_type": "code",
      "source": [
        "import tensorflow as tf\n",
        "\n",
        "model_path = '/content/drive/My Drive/NewCroppedShot/lrcn-new-data-tuned-model-4label-max.keras'\n",
        "\n",
        "# Load the model\n",
        "model = tf.keras.models.load_model(model_path)"
      ],
      "metadata": {
        "id": "FhhroB-y9r0g"
      },
      "execution_count": null,
      "outputs": []
    },
    {
      "cell_type": "code",
      "execution_count": null,
      "metadata": {
        "colab": {
          "base_uri": "https://localhost:8080/",
          "height": 73
        },
        "id": "X5BUqRMFyHCh",
        "outputId": "14801325-e8cf-4be2-a0ce-b131ec0300e1"
      },
      "outputs": [
        {
          "output_type": "display_data",
          "data": {
            "text/plain": [
              "<IPython.core.display.HTML object>"
            ],
            "text/html": [
              "\n",
              "     <input type=\"file\" id=\"files-f3e9321d-d085-4cea-9f1e-d98dc9af187a\" name=\"files[]\" multiple disabled\n",
              "        style=\"border:none\" />\n",
              "     <output id=\"result-f3e9321d-d085-4cea-9f1e-d98dc9af187a\">\n",
              "      Upload widget is only available when the cell has been executed in the\n",
              "      current browser session. Please rerun this cell to enable.\n",
              "      </output>\n",
              "      <script>// Copyright 2017 Google LLC\n",
              "//\n",
              "// Licensed under the Apache License, Version 2.0 (the \"License\");\n",
              "// you may not use this file except in compliance with the License.\n",
              "// You may obtain a copy of the License at\n",
              "//\n",
              "//      http://www.apache.org/licenses/LICENSE-2.0\n",
              "//\n",
              "// Unless required by applicable law or agreed to in writing, software\n",
              "// distributed under the License is distributed on an \"AS IS\" BASIS,\n",
              "// WITHOUT WARRANTIES OR CONDITIONS OF ANY KIND, either express or implied.\n",
              "// See the License for the specific language governing permissions and\n",
              "// limitations under the License.\n",
              "\n",
              "/**\n",
              " * @fileoverview Helpers for google.colab Python module.\n",
              " */\n",
              "(function(scope) {\n",
              "function span(text, styleAttributes = {}) {\n",
              "  const element = document.createElement('span');\n",
              "  element.textContent = text;\n",
              "  for (const key of Object.keys(styleAttributes)) {\n",
              "    element.style[key] = styleAttributes[key];\n",
              "  }\n",
              "  return element;\n",
              "}\n",
              "\n",
              "// Max number of bytes which will be uploaded at a time.\n",
              "const MAX_PAYLOAD_SIZE = 100 * 1024;\n",
              "\n",
              "function _uploadFiles(inputId, outputId) {\n",
              "  const steps = uploadFilesStep(inputId, outputId);\n",
              "  const outputElement = document.getElementById(outputId);\n",
              "  // Cache steps on the outputElement to make it available for the next call\n",
              "  // to uploadFilesContinue from Python.\n",
              "  outputElement.steps = steps;\n",
              "\n",
              "  return _uploadFilesContinue(outputId);\n",
              "}\n",
              "\n",
              "// This is roughly an async generator (not supported in the browser yet),\n",
              "// where there are multiple asynchronous steps and the Python side is going\n",
              "// to poll for completion of each step.\n",
              "// This uses a Promise to block the python side on completion of each step,\n",
              "// then passes the result of the previous step as the input to the next step.\n",
              "function _uploadFilesContinue(outputId) {\n",
              "  const outputElement = document.getElementById(outputId);\n",
              "  const steps = outputElement.steps;\n",
              "\n",
              "  const next = steps.next(outputElement.lastPromiseValue);\n",
              "  return Promise.resolve(next.value.promise).then((value) => {\n",
              "    // Cache the last promise value to make it available to the next\n",
              "    // step of the generator.\n",
              "    outputElement.lastPromiseValue = value;\n",
              "    return next.value.response;\n",
              "  });\n",
              "}\n",
              "\n",
              "/**\n",
              " * Generator function which is called between each async step of the upload\n",
              " * process.\n",
              " * @param {string} inputId Element ID of the input file picker element.\n",
              " * @param {string} outputId Element ID of the output display.\n",
              " * @return {!Iterable<!Object>} Iterable of next steps.\n",
              " */\n",
              "function* uploadFilesStep(inputId, outputId) {\n",
              "  const inputElement = document.getElementById(inputId);\n",
              "  inputElement.disabled = false;\n",
              "\n",
              "  const outputElement = document.getElementById(outputId);\n",
              "  outputElement.innerHTML = '';\n",
              "\n",
              "  const pickedPromise = new Promise((resolve) => {\n",
              "    inputElement.addEventListener('change', (e) => {\n",
              "      resolve(e.target.files);\n",
              "    });\n",
              "  });\n",
              "\n",
              "  const cancel = document.createElement('button');\n",
              "  inputElement.parentElement.appendChild(cancel);\n",
              "  cancel.textContent = 'Cancel upload';\n",
              "  const cancelPromise = new Promise((resolve) => {\n",
              "    cancel.onclick = () => {\n",
              "      resolve(null);\n",
              "    };\n",
              "  });\n",
              "\n",
              "  // Wait for the user to pick the files.\n",
              "  const files = yield {\n",
              "    promise: Promise.race([pickedPromise, cancelPromise]),\n",
              "    response: {\n",
              "      action: 'starting',\n",
              "    }\n",
              "  };\n",
              "\n",
              "  cancel.remove();\n",
              "\n",
              "  // Disable the input element since further picks are not allowed.\n",
              "  inputElement.disabled = true;\n",
              "\n",
              "  if (!files) {\n",
              "    return {\n",
              "      response: {\n",
              "        action: 'complete',\n",
              "      }\n",
              "    };\n",
              "  }\n",
              "\n",
              "  for (const file of files) {\n",
              "    const li = document.createElement('li');\n",
              "    li.append(span(file.name, {fontWeight: 'bold'}));\n",
              "    li.append(span(\n",
              "        `(${file.type || 'n/a'}) - ${file.size} bytes, ` +\n",
              "        `last modified: ${\n",
              "            file.lastModifiedDate ? file.lastModifiedDate.toLocaleDateString() :\n",
              "                                    'n/a'} - `));\n",
              "    const percent = span('0% done');\n",
              "    li.appendChild(percent);\n",
              "\n",
              "    outputElement.appendChild(li);\n",
              "\n",
              "    const fileDataPromise = new Promise((resolve) => {\n",
              "      const reader = new FileReader();\n",
              "      reader.onload = (e) => {\n",
              "        resolve(e.target.result);\n",
              "      };\n",
              "      reader.readAsArrayBuffer(file);\n",
              "    });\n",
              "    // Wait for the data to be ready.\n",
              "    let fileData = yield {\n",
              "      promise: fileDataPromise,\n",
              "      response: {\n",
              "        action: 'continue',\n",
              "      }\n",
              "    };\n",
              "\n",
              "    // Use a chunked sending to avoid message size limits. See b/62115660.\n",
              "    let position = 0;\n",
              "    do {\n",
              "      const length = Math.min(fileData.byteLength - position, MAX_PAYLOAD_SIZE);\n",
              "      const chunk = new Uint8Array(fileData, position, length);\n",
              "      position += length;\n",
              "\n",
              "      const base64 = btoa(String.fromCharCode.apply(null, chunk));\n",
              "      yield {\n",
              "        response: {\n",
              "          action: 'append',\n",
              "          file: file.name,\n",
              "          data: base64,\n",
              "        },\n",
              "      };\n",
              "\n",
              "      let percentDone = fileData.byteLength === 0 ?\n",
              "          100 :\n",
              "          Math.round((position / fileData.byteLength) * 100);\n",
              "      percent.textContent = `${percentDone}% done`;\n",
              "\n",
              "    } while (position < fileData.byteLength);\n",
              "  }\n",
              "\n",
              "  // All done.\n",
              "  yield {\n",
              "    response: {\n",
              "      action: 'complete',\n",
              "    }\n",
              "  };\n",
              "}\n",
              "\n",
              "scope.google = scope.google || {};\n",
              "scope.google.colab = scope.google.colab || {};\n",
              "scope.google.colab._files = {\n",
              "  _uploadFiles,\n",
              "  _uploadFilesContinue,\n",
              "};\n",
              "})(self);\n",
              "</script> "
            ]
          },
          "metadata": {}
        },
        {
          "output_type": "stream",
          "name": "stdout",
          "text": [
            "Saving output2.avi to output2 (1).avi\n"
          ]
        }
      ],
      "source": [
        "from google.colab import files\n",
        "import os\n",
        "\n",
        "uploaded = files.upload()\n",
        "video_path = ''\n",
        "\n",
        "# Move the uploaded video to a specific directory\n",
        "os.makedirs('videos', exist_ok=True)\n",
        "for file_name in uploaded.keys():\n",
        "    video_path = 'videos/demo.' + file_name.split('.')[1]\n",
        "    os.rename(file_name, os.path.join(video_path))"
      ]
    },
    {
      "cell_type": "code",
      "source": [
        "new_frames = extract_frames(video_path)\n",
        "new_frames = np.expand_dims(new_frames, axis=0)\n",
        "\n",
        "prediction = model.predict(new_frames)\n",
        "predicted_class = np.argmax(prediction, axis=1)\n",
        "print(prediction)\n",
        "\n",
        "shot = {0: 'Defensive Shot', 1: 'Cover Shot', 2: 'Flick Shot', 3: 'Pull Shot'}\n",
        "print(shot[predicted_class[0]])"
      ],
      "metadata": {
        "colab": {
          "base_uri": "https://localhost:8080/"
        },
        "id": "M_zVpQf-8T-7",
        "outputId": "931ba5a3-12fd-4d19-82e1-1fedb1313434"
      },
      "execution_count": null,
      "outputs": [
        {
          "output_type": "stream",
          "name": "stdout",
          "text": [
            "1/1 [==============================] - 1s 699ms/step\n",
            "[[6.7014019e-03 9.8848325e-01 3.2190618e-04 4.4934843e-03]]\n",
            "Cover Shot\n"
          ]
        }
      ]
    }
  ],
  "metadata": {
    "colab": {
      "provenance": []
    },
    "kernelspec": {
      "display_name": "Python 3",
      "name": "python3"
    },
    "language_info": {
      "name": "python"
    }
  },
  "nbformat": 4,
  "nbformat_minor": 0
}