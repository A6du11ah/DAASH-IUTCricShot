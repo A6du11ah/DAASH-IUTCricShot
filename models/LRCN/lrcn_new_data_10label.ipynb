{
  "cells": [
    {
      "cell_type": "code",
      "execution_count": null,
      "metadata": {
        "colab": {
          "base_uri": "https://localhost:8080/"
        },
        "id": "DbCLwNadCRjv",
        "outputId": "4316381d-91c1-4f44-91c5-edb6fa6688fb"
      },
      "outputs": [
        {
          "output_type": "stream",
          "name": "stdout",
          "text": [
            "Mounted at /content/drive\n"
          ]
        }
      ],
      "source": [
        "from google.colab import drive\n",
        "drive.mount('/content/drive')\n"
      ]
    },
    {
      "cell_type": "code",
      "execution_count": null,
      "metadata": {
        "colab": {
          "base_uri": "https://localhost:8080/"
        },
        "id": "arLj7VLTo2aF",
        "outputId": "add198b1-9fef-4bd7-dd3c-65c9d7e0898f"
      },
      "outputs": [
        {
          "output_type": "stream",
          "name": "stdout",
          "text": [
            "Requirement already satisfied: opencv-python-headless in /usr/local/lib/python3.10/dist-packages (4.10.0.84)\n",
            "Requirement already satisfied: numpy>=1.21.2 in /usr/local/lib/python3.10/dist-packages (from opencv-python-headless) (1.25.2)\n"
          ]
        }
      ],
      "source": [
        "!pip install opencv-python-headless"
      ]
    },
    {
      "cell_type": "code",
      "execution_count": null,
      "metadata": {
        "id": "uGhkeCqZo2dE",
        "colab": {
          "base_uri": "https://localhost:8080/"
        },
        "outputId": "5f26b782-bdb0-4c6f-9bfa-63110703af91"
      },
      "outputs": [
        {
          "output_type": "stream",
          "name": "stdout",
          "text": [
            "/content/drive/My Drive/NewCroppedShot/defense\n",
            "/content/drive/My Drive/NewCroppedShot/cover\n",
            "/content/drive/My Drive/NewCroppedShot/flick\n",
            "/content/drive/My Drive/NewCroppedShot/pull\n",
            "/content/drive/My Drive/NewCroppedShot/lofted\n",
            "/content/drive/My Drive/NewCroppedShot/sweep\n",
            "/content/drive/My Drive/NewCroppedShot/square_cut\n",
            "/content/drive/My Drive/NewCroppedShot/late_cut\n",
            "/content/drive/My Drive/NewCroppedShot/straight\n",
            "/content/drive/My Drive/NewCroppedShot/hook\n"
          ]
        }
      ],
      "source": [
        "import os\n",
        "import cv2\n",
        "import numpy as np\n",
        "\n",
        "def extract_frames(video_path, frame_count=10):\n",
        "    cap = cv2.VideoCapture(video_path)\n",
        "    frames = []\n",
        "    total_frames = int(cap.get(cv2.CAP_PROP_FRAME_COUNT))\n",
        "    interval = total_frames // frame_count\n",
        "\n",
        "    for i in range(frame_count):\n",
        "        cap.set(cv2.CAP_PROP_POS_FRAMES, i * interval)\n",
        "        ret, frame = cap.read()\n",
        "        if ret:\n",
        "            frame = cv2.resize(frame, (64, 64))\n",
        "            frames.append(frame)\n",
        "        else:\n",
        "            break\n",
        "    cap.release()\n",
        "    return np.array(frames)\n",
        "\n",
        "def load_data(data_dir):\n",
        "    X = []\n",
        "    y = []\n",
        "    labels = {'defense': 0, 'cover': 1, 'flick': 2, 'pull': 3, 'lofted':4, 'sweep':5, 'square_cut':6, 'late_cut':7, 'straight':8, 'hook':9}\n",
        "\n",
        "    for label in labels:\n",
        "        videos_dir = os.path.join(data_dir, label)\n",
        "        videos = os.listdir(videos_dir)\n",
        "        print(videos_dir)\n",
        "        for video in videos:\n",
        "            video_path = os.path.join(videos_dir, video)\n",
        "            frames = extract_frames(video_path)\n",
        "            if len(frames) == 10:\n",
        "                X.append(frames)\n",
        "                y.append(labels[label])\n",
        "\n",
        "    X = np.array(X)\n",
        "    y = np.array(y)\n",
        "    return X, y\n",
        "\n",
        "data_dir = '/content/drive/My Drive/NewCroppedShot'\n",
        "X, y = load_data(data_dir)"
      ]
    },
    {
      "cell_type": "code",
      "execution_count": null,
      "metadata": {
        "id": "8I2qLP-DpP2b"
      },
      "outputs": [],
      "source": [
        "from sklearn.model_selection import train_test_split\n",
        "\n",
        "# X_train, X_val, y_train, y_val = train_test_split(X, y, test_size=0.2, stratify=y, random_state=42)\n",
        "\n",
        "X_train = X\n",
        "X_val = X\n",
        "y_train = y\n",
        "y_val = y\n",
        "\n",
        "X_train = X_train / 255.0\n",
        "X_val = X_val / 255.0\n",
        "\n",
        "# (batch_size, time_steps, height, width, channels)\n",
        "X_train = np.reshape(X_train, (X_train.shape[0], 10, 64, 64, 3))\n",
        "X_val = np.reshape(X_val, (X_val.shape[0], 10, 64, 64, 3))"
      ]
    },
    {
      "cell_type": "code",
      "source": [
        "import tensorflow as tf\n",
        "from tensorflow.keras.models import Sequential\n",
        "from tensorflow.keras.layers import TimeDistributed, Conv2D, MaxPooling2D, Flatten, LSTM, Dense, Dropout\n",
        "\n",
        "def create_LRCN_model(input_shape):\n",
        "    model = Sequential()\n",
        "\n",
        "    # Layer 1\n",
        "    model.add(TimeDistributed(Conv2D(filters=16, kernel_size=(3, 3), activation='tanh', padding='same'), input_shape=input_shape))\n",
        "    model.add(TimeDistributed(MaxPooling2D((4, 4))))\n",
        "    model.add(TimeDistributed(Dropout(0.2)))\n",
        "\n",
        "    # Layer 2\n",
        "    model.add(TimeDistributed(Conv2D(32, (3, 3), activation='tanh', padding='same')))\n",
        "    model.add(TimeDistributed(MaxPooling2D((4, 4))))\n",
        "    model.add(TimeDistributed(Dropout(0.2)))\n",
        "\n",
        "    # Layer 3\n",
        "    model.add(TimeDistributed(Conv2D(64, (3, 3), activation='tanh', padding='same')))\n",
        "    model.add(TimeDistributed(MaxPooling2D((2, 2))))\n",
        "    model.add(TimeDistributed(Dropout(0.2)))\n",
        "\n",
        "    model.add(TimeDistributed(MaxPooling2D((2, 2))))\n",
        "\n",
        "    # Flatten the output\n",
        "    model.add(TimeDistributed(Flatten()))\n",
        "\n",
        "    # Dense Layer\n",
        "   # model.add(TimeDistributed(Dense(64, activation='relu')))\n",
        "\n",
        "    # LSTM Layer\n",
        "    model.add(LSTM(32))\n",
        "\n",
        "    # Output Layer\n",
        "    model.add(Dense(10, activation='softmax'))  # Assuming 10 classes for the output\n",
        "\n",
        "    # Compile the model\n",
        "    model.compile(loss='sparse_categorical_crossentropy', optimizer='adam', metrics=['accuracy'])\n",
        "\n",
        "    return model"
      ],
      "metadata": {
        "id": "FmDR8MaSKuaX"
      },
      "execution_count": null,
      "outputs": []
    },
    {
      "cell_type": "code",
      "execution_count": null,
      "metadata": {
        "colab": {
          "base_uri": "https://localhost:8080/"
        },
        "id": "4Q2l2jDGGwVI",
        "outputId": "16912f0f-ae6d-4d95-94fd-684338495c41"
      },
      "outputs": [
        {
          "output_type": "stream",
          "name": "stdout",
          "text": [
            "(10, 64, 64, 3)\n",
            "Model: \"sequential\"\n",
            "_________________________________________________________________\n",
            " Layer (type)                Output Shape              Param #   \n",
            "=================================================================\n",
            " time_distributed (TimeDist  (None, 10, 64, 64, 16)    448       \n",
            " ributed)                                                        \n",
            "                                                                 \n",
            " time_distributed_1 (TimeDi  (None, 10, 16, 16, 16)    0         \n",
            " stributed)                                                      \n",
            "                                                                 \n",
            " time_distributed_2 (TimeDi  (None, 10, 16, 16, 16)    0         \n",
            " stributed)                                                      \n",
            "                                                                 \n",
            " time_distributed_3 (TimeDi  (None, 10, 16, 16, 32)    4640      \n",
            " stributed)                                                      \n",
            "                                                                 \n",
            " time_distributed_4 (TimeDi  (None, 10, 4, 4, 32)      0         \n",
            " stributed)                                                      \n",
            "                                                                 \n",
            " time_distributed_5 (TimeDi  (None, 10, 4, 4, 32)      0         \n",
            " stributed)                                                      \n",
            "                                                                 \n",
            " time_distributed_6 (TimeDi  (None, 10, 4, 4, 64)      18496     \n",
            " stributed)                                                      \n",
            "                                                                 \n",
            " time_distributed_7 (TimeDi  (None, 10, 2, 2, 64)      0         \n",
            " stributed)                                                      \n",
            "                                                                 \n",
            " time_distributed_8 (TimeDi  (None, 10, 2, 2, 64)      0         \n",
            " stributed)                                                      \n",
            "                                                                 \n",
            " time_distributed_9 (TimeDi  (None, 10, 1, 1, 64)      0         \n",
            " stributed)                                                      \n",
            "                                                                 \n",
            " time_distributed_10 (TimeD  (None, 10, 64)            0         \n",
            " istributed)                                                     \n",
            "                                                                 \n",
            " lstm (LSTM)                 (None, 32)                12416     \n",
            "                                                                 \n",
            " dense (Dense)               (None, 10)                330       \n",
            "                                                                 \n",
            "=================================================================\n",
            "Total params: 36330 (141.91 KB)\n",
            "Trainable params: 36330 (141.91 KB)\n",
            "Non-trainable params: 0 (0.00 Byte)\n",
            "_________________________________________________________________\n"
          ]
        }
      ],
      "source": [
        "input_shape = X_train.shape[1:]\n",
        "print(input_shape)\n",
        "model = create_LRCN_model(input_shape)\n",
        "\n",
        "#model_path = '/content/drive/My Drive/ShotDetection/LRCN_model.h5'\n",
        "\n",
        "# Load the model\n",
        "#model = tf.keras.models.load_model(model_path)\n",
        "\n",
        "model.summary()"
      ]
    },
    {
      "cell_type": "code",
      "execution_count": null,
      "metadata": {
        "colab": {
          "base_uri": "https://localhost:8080/"
        },
        "id": "JSY0FtbTpcIX",
        "outputId": "79950e4d-05be-464a-eab9-3774a67cce3b"
      },
      "outputs": [
        {
          "output_type": "stream",
          "name": "stdout",
          "text": [
            "Epoch 1/50\n",
            "118/118 [==============================] - 73s 589ms/step - loss: 2.2853 - accuracy: 0.1362 - val_loss: 2.2119 - val_accuracy: 0.1807\n",
            "Epoch 2/50\n",
            "118/118 [==============================] - 67s 566ms/step - loss: 2.2006 - accuracy: 0.1887 - val_loss: 2.1393 - val_accuracy: 0.2236\n",
            "Epoch 3/50\n",
            "118/118 [==============================] - 69s 587ms/step - loss: 2.0984 - accuracy: 0.2353 - val_loss: 2.0146 - val_accuracy: 0.2703\n",
            "Epoch 4/50\n",
            "118/118 [==============================] - 71s 604ms/step - loss: 1.9915 - accuracy: 0.2772 - val_loss: 1.8757 - val_accuracy: 0.3514\n",
            "Epoch 5/50\n",
            "118/118 [==============================] - 64s 545ms/step - loss: 1.9021 - accuracy: 0.3185 - val_loss: 1.8465 - val_accuracy: 0.3439\n",
            "Epoch 6/50\n",
            "118/118 [==============================] - 64s 540ms/step - loss: 1.8037 - accuracy: 0.3545 - val_loss: 1.8047 - val_accuracy: 0.3461\n",
            "Epoch 7/50\n",
            "118/118 [==============================] - 69s 584ms/step - loss: 1.6796 - accuracy: 0.4038 - val_loss: 1.5606 - val_accuracy: 0.4505\n",
            "Epoch 8/50\n",
            "118/118 [==============================] - 68s 576ms/step - loss: 1.6148 - accuracy: 0.4255 - val_loss: 1.4677 - val_accuracy: 0.4865\n",
            "Epoch 9/50\n",
            "118/118 [==============================] - 66s 563ms/step - loss: 1.4972 - accuracy: 0.4663 - val_loss: 1.3461 - val_accuracy: 0.5342\n",
            "Epoch 10/50\n",
            "118/118 [==============================] - 63s 533ms/step - loss: 1.4174 - accuracy: 0.5109 - val_loss: 1.3282 - val_accuracy: 0.5427\n",
            "Epoch 11/50\n",
            "118/118 [==============================] - 69s 589ms/step - loss: 1.3313 - accuracy: 0.5289 - val_loss: 1.2123 - val_accuracy: 0.5819\n",
            "Epoch 12/50\n",
            "118/118 [==============================] - 71s 597ms/step - loss: 1.2878 - accuracy: 0.5543 - val_loss: 1.2074 - val_accuracy: 0.5745\n",
            "Epoch 13/50\n",
            "118/118 [==============================] - 68s 582ms/step - loss: 1.2404 - accuracy: 0.5601 - val_loss: 1.1666 - val_accuracy: 0.5951\n",
            "Epoch 14/50\n",
            "118/118 [==============================] - 71s 604ms/step - loss: 1.1671 - accuracy: 0.6052 - val_loss: 1.1200 - val_accuracy: 0.6163\n",
            "Epoch 15/50\n",
            "118/118 [==============================] - 67s 572ms/step - loss: 1.1300 - accuracy: 0.6147 - val_loss: 1.0104 - val_accuracy: 0.6529\n",
            "Epoch 16/50\n",
            "118/118 [==============================] - 67s 573ms/step - loss: 1.0731 - accuracy: 0.6195 - val_loss: 0.9706 - val_accuracy: 0.6645\n",
            "Epoch 17/50\n",
            "118/118 [==============================] - 67s 569ms/step - loss: 1.0374 - accuracy: 0.6365 - val_loss: 0.8879 - val_accuracy: 0.7064\n",
            "Epoch 18/50\n",
            "118/118 [==============================] - 70s 592ms/step - loss: 1.0144 - accuracy: 0.6349 - val_loss: 0.9015 - val_accuracy: 0.6916\n",
            "Epoch 19/50\n",
            "118/118 [==============================] - 68s 574ms/step - loss: 0.9761 - accuracy: 0.6492 - val_loss: 0.8317 - val_accuracy: 0.7154\n",
            "Epoch 20/50\n",
            "118/118 [==============================] - 64s 546ms/step - loss: 0.9241 - accuracy: 0.6704 - val_loss: 0.8082 - val_accuracy: 0.7398\n",
            "Epoch 21/50\n",
            "118/118 [==============================] - 74s 627ms/step - loss: 0.9026 - accuracy: 0.6741 - val_loss: 0.7801 - val_accuracy: 0.7297\n",
            "Epoch 22/50\n",
            "118/118 [==============================] - 64s 547ms/step - loss: 0.8712 - accuracy: 0.6953 - val_loss: 0.7911 - val_accuracy: 0.7530\n",
            "Epoch 23/50\n",
            "118/118 [==============================] - 67s 574ms/step - loss: 0.8603 - accuracy: 0.6847 - val_loss: 0.6795 - val_accuracy: 0.7848\n",
            "Epoch 24/50\n",
            "118/118 [==============================] - 70s 594ms/step - loss: 0.7711 - accuracy: 0.7239 - val_loss: 0.6426 - val_accuracy: 0.7907\n",
            "Epoch 25/50\n",
            "118/118 [==============================] - 68s 577ms/step - loss: 0.7812 - accuracy: 0.7149 - val_loss: 0.6412 - val_accuracy: 0.7912\n",
            "Epoch 26/50\n",
            "118/118 [==============================] - 65s 551ms/step - loss: 0.7518 - accuracy: 0.7271 - val_loss: 0.6132 - val_accuracy: 0.8034\n",
            "Epoch 27/50\n",
            "118/118 [==============================] - 88s 747ms/step - loss: 0.7338 - accuracy: 0.7303 - val_loss: 0.5377 - val_accuracy: 0.8294\n",
            "Epoch 28/50\n",
            "118/118 [==============================] - 68s 577ms/step - loss: 0.6842 - accuracy: 0.7631 - val_loss: 0.5569 - val_accuracy: 0.8188\n",
            "Epoch 29/50\n",
            "118/118 [==============================] - 67s 571ms/step - loss: 0.6889 - accuracy: 0.7621 - val_loss: 0.4963 - val_accuracy: 0.8569\n",
            "Epoch 30/50\n",
            "118/118 [==============================] - 68s 574ms/step - loss: 0.6476 - accuracy: 0.7827 - val_loss: 0.4622 - val_accuracy: 0.8601\n",
            "Epoch 31/50\n",
            "118/118 [==============================] - 68s 575ms/step - loss: 0.6365 - accuracy: 0.7901 - val_loss: 0.5609 - val_accuracy: 0.8098\n",
            "Epoch 32/50\n",
            "118/118 [==============================] - 65s 550ms/step - loss: 0.6032 - accuracy: 0.7891 - val_loss: 0.4119 - val_accuracy: 0.8818\n",
            "Epoch 33/50\n",
            "118/118 [==============================] - 64s 546ms/step - loss: 0.6010 - accuracy: 0.7870 - val_loss: 0.4315 - val_accuracy: 0.8765\n",
            "Epoch 34/50\n",
            "118/118 [==============================] - 70s 597ms/step - loss: 0.5676 - accuracy: 0.8039 - val_loss: 0.4003 - val_accuracy: 0.8887\n",
            "Epoch 35/50\n",
            "118/118 [==============================] - 67s 573ms/step - loss: 0.5875 - accuracy: 0.7811 - val_loss: 0.3635 - val_accuracy: 0.9030\n",
            "Epoch 36/50\n",
            "118/118 [==============================] - 68s 574ms/step - loss: 0.5811 - accuracy: 0.8076 - val_loss: 0.3570 - val_accuracy: 0.8887\n",
            "Epoch 37/50\n",
            "118/118 [==============================] - 69s 584ms/step - loss: 0.5133 - accuracy: 0.8256 - val_loss: 0.3976 - val_accuracy: 0.8824\n",
            "Epoch 38/50\n",
            "118/118 [==============================] - 67s 574ms/step - loss: 0.5182 - accuracy: 0.8272 - val_loss: 0.3259 - val_accuracy: 0.9078\n",
            "Epoch 39/50\n",
            "118/118 [==============================] - 67s 571ms/step - loss: 0.5138 - accuracy: 0.8166 - val_loss: 0.3206 - val_accuracy: 0.9131\n",
            "Epoch 40/50\n",
            "118/118 [==============================] - 67s 568ms/step - loss: 0.5130 - accuracy: 0.8209 - val_loss: 0.3358 - val_accuracy: 0.9067\n",
            "Epoch 41/50\n",
            "118/118 [==============================] - 67s 569ms/step - loss: 0.4405 - accuracy: 0.8532 - val_loss: 0.3360 - val_accuracy: 0.8983\n",
            "Epoch 42/50\n",
            "118/118 [==============================] - 67s 569ms/step - loss: 0.4788 - accuracy: 0.8368 - val_loss: 0.2582 - val_accuracy: 0.9438\n",
            "Epoch 43/50\n",
            "118/118 [==============================] - 67s 566ms/step - loss: 0.4645 - accuracy: 0.8495 - val_loss: 0.2559 - val_accuracy: 0.9396\n",
            "Epoch 44/50\n",
            "118/118 [==============================] - 68s 575ms/step - loss: 0.4413 - accuracy: 0.8585 - val_loss: 0.2826 - val_accuracy: 0.9258\n",
            "Epoch 45/50\n",
            "118/118 [==============================] - 67s 570ms/step - loss: 0.4050 - accuracy: 0.8612 - val_loss: 0.2052 - val_accuracy: 0.9497\n",
            "Epoch 46/50\n",
            "118/118 [==============================] - 63s 537ms/step - loss: 0.4172 - accuracy: 0.8680 - val_loss: 0.2443 - val_accuracy: 0.9300\n",
            "Epoch 47/50\n",
            "118/118 [==============================] - 70s 597ms/step - loss: 0.3951 - accuracy: 0.8638 - val_loss: 0.2626 - val_accuracy: 0.9242\n",
            "Epoch 48/50\n",
            "118/118 [==============================] - 67s 572ms/step - loss: 0.3899 - accuracy: 0.8665 - val_loss: 0.3342 - val_accuracy: 0.8903\n",
            "Epoch 49/50\n",
            "118/118 [==============================] - 64s 547ms/step - loss: 0.4161 - accuracy: 0.8569 - val_loss: 0.1944 - val_accuracy: 0.9560\n",
            "Epoch 50/50\n",
            "118/118 [==============================] - 68s 576ms/step - loss: 0.3647 - accuracy: 0.8786 - val_loss: 0.1879 - val_accuracy: 0.9528\n"
          ]
        }
      ],
      "source": [
        "from tensorflow.keras.callbacks import EarlyStopping\n",
        "\n",
        "early_stopping = EarlyStopping(monitor='val_loss', patience=5, restore_best_weights=True)\n",
        "\n",
        "history = model.fit(X_train, y_train, epochs=50, batch_size=16, validation_data=(X_val, y_val), callbacks=[early_stopping])"
      ]
    },
    {
      "cell_type": "code",
      "source": [
        "import matplotlib.pyplot as plt\n",
        "\n",
        "# Extract information from the history object\n",
        "acc = history.history['accuracy']\n",
        "val_acc = history.history['val_accuracy']\n",
        "loss = history.history['loss']\n",
        "val_loss = history.history['val_loss']\n",
        "epochs = range(len(acc))\n",
        "\n",
        "# Print history details\n",
        "print(\"Epochs:\", history.epoch)\n",
        "print(\"Params:\", history.params)\n",
        "print(\"Keys in history.history:\", history.history.keys())\n",
        "\n",
        "# Plot training vs. validation accuracy\n",
        "plt.figure(figsize=(12, 4))\n",
        "plt.subplot(1, 2, 1)\n",
        "plt.plot(epochs, acc, 'bo-', label='Training accuracy')\n",
        "plt.plot(epochs, val_acc, 'ro-', label='Validation accuracy')\n",
        "plt.title('Training and validation accuracy')\n",
        "plt.xlabel('Epochs')\n",
        "plt.ylabel('Accuracy')\n",
        "plt.legend()\n",
        "\n",
        "# Plot training vs. validation loss\n",
        "plt.subplot(1, 2, 2)\n",
        "plt.plot(epochs, loss, 'bo-', label='Training loss')\n",
        "plt.plot(epochs, val_loss, 'ro-', label='Validation loss')\n",
        "plt.title('Training and validation loss')\n",
        "plt.xlabel('Epochs')\n",
        "plt.ylabel('Loss')\n",
        "plt.legend()\n",
        "\n",
        "plt.tight_layout()\n",
        "plt.show()"
      ],
      "metadata": {
        "colab": {
          "base_uri": "https://localhost:8080/"
        },
        "id": "mwGabeVMRGTP",
        "outputId": "98e5d9ef-33b2-4820-891d-3b7897a780f4"
      },
      "execution_count": null,
      "outputs": [
        {
          "output_type": "stream",
          "name": "stdout",
          "text": [
            "Epochs: [0, 1, 2, 3, 4, 5, 6, 7, 8, 9, 10, 11, 12, 13, 14, 15, 16, 17, 18, 19, 20, 21, 22, 23, 24, 25, 26, 27, 28, 29, 30, 31, 32, 33, 34, 35, 36, 37, 38, 39, 40, 41, 42, 43, 44, 45, 46, 47, 48, 49]\n",
            "Params: {'verbose': 1, 'epochs': 50, 'steps': 118}\n",
            "Keys in history.history: dict_keys(['loss', 'accuracy', 'val_loss', 'val_accuracy'])\n"
          ]
        },
        {
          "output_type": "display_data",
          "data": {
            "text/plain": [
              "<Figure size 1200x400 with 2 Axes>"
            ],
            "image/png": "[encoded data removed]"
          },
          "metadata": {}
        }
      ]
    },
    {
      "cell_type": "code",
      "source": [
        "import numpy as np\n",
        "from sklearn.metrics import precision_score, recall_score, f1_score, classification_report\n",
        "from sklearn.preprocessing import LabelBinarizer\n",
        "\n",
        "# Make predictions\n",
        "y_pred_prob = model.predict(X)\n",
        "y_pred = np.argmax(y_pred_prob, axis=1)\n",
        "\n",
        "# Calculate precision, recall, and F1 score\n",
        "precision = precision_score(y, y_pred, average='macro')\n",
        "recall = recall_score(y, y_pred, average='macro')\n",
        "f1 = f1_score(y, y_pred, average='macro')\n",
        "\n",
        "# Display the metrics\n",
        "print(f'Precision: {precision * 100:.2f}%')\n",
        "print(f'Recall: {recall * 100:.2f}%')\n",
        "print(f'F1 Score: {f1 * 100:.2f}%')\n",
        "\n",
        "# Detailed classification report\n",
        "print(\"\\nClassification Report:\\n\", classification_report(y, y_pred))"
      ],
      "metadata": {
        "colab": {
          "base_uri": "https://localhost:8080/"
        },
        "id": "X4j9PE_dl_Wj",
        "outputId": "5c5515f6-192d-4c06-bdcc-0c9b3a6ec815"
      },
      "execution_count": null,
      "outputs": [
        {
          "output_type": "stream",
          "name": "stdout",
          "text": [
            "59/59 [==============================] - 22s 354ms/step\n",
            "Precision: 44.58%\n",
            "Recall: 20.11%\n",
            "F1 Score: 15.88%\n",
            "\n",
            "Classification Report:\n",
            "               precision    recall  f1-score   support\n",
            "\n",
            "           0       1.00      0.01      0.01       192\n",
            "           1       0.15      0.65      0.24       187\n",
            "           2       0.67      0.01      0.02       181\n",
            "           3       0.35      0.15      0.21       179\n",
            "           4       0.16      0.60      0.26       198\n",
            "           5       0.89      0.21      0.34       194\n",
            "           6       0.24      0.18      0.21       200\n",
            "           7       0.50      0.01      0.01       182\n",
            "           8       0.00      0.00      0.00       193\n",
            "           9       0.50      0.20      0.28       181\n",
            "\n",
            "    accuracy                           0.20      1887\n",
            "   macro avg       0.45      0.20      0.16      1887\n",
            "weighted avg       0.44      0.20      0.16      1887\n",
            "\n"
          ]
        }
      ]
    },
    {
      "cell_type": "code",
      "source": [
        "model.save('/content/drive/My Drive/NewCroppedShot/lrcn-new-data-tuned-model-10label-max.keras')"
      ],
      "metadata": {
        "id": "dxRHvsduMUDU"
      },
      "execution_count": null,
      "outputs": []
    },
    {
      "cell_type": "code",
      "execution_count": null,
      "metadata": {
        "colab": {
          "base_uri": "https://localhost:8080/",
          "height": 73
        },
        "id": "X5BUqRMFyHCh",
        "outputId": "9d22b663-c77a-4572-9670-7b62a843f40d"
      },
      "outputs": [
        {
          "output_type": "display_data",
          "data": {
            "text/plain": [
              "<IPython.core.display.HTML object>"
            ],
            "text/html": [
              "\n",
              "     <input type=\"file\" id=\"files-97578a88-9122-4756-b768-ca1aebdd286c\" name=\"files[]\" multiple disabled\n",
              "        style=\"border:none\" />\n",
              "     <output id=\"result-97578a88-9122-4756-b768-ca1aebdd286c\">\n",
              "      Upload widget is only available when the cell has been executed in the\n",
              "      current browser session. Please rerun this cell to enable.\n",
              "      </output>\n",
              "      <script>// Copyright 2017 Google LLC\n",
              "//\n",
              "// Licensed under the Apache License, Version 2.0 (the \"License\");\n",
              "// you may not use this file except in compliance with the License.\n",
              "// You may obtain a copy of the License at\n",
              "//\n",
              "//      http://www.apache.org/licenses/LICENSE-2.0\n",
              "//\n",
              "// Unless required by applicable law or agreed to in writing, software\n",
              "// distributed under the License is distributed on an \"AS IS\" BASIS,\n",
              "// WITHOUT WARRANTIES OR CONDITIONS OF ANY KIND, either express or implied.\n",
              "// See the License for the specific language governing permissions and\n",
              "// limitations under the License.\n",
              "\n",
              "/**\n",
              " * @fileoverview Helpers for google.colab Python module.\n",
              " */\n",
              "(function(scope) {\n",
              "function span(text, styleAttributes = {}) {\n",
              "  const element = document.createElement('span');\n",
              "  element.textContent = text;\n",
              "  for (const key of Object.keys(styleAttributes)) {\n",
              "    element.style[key] = styleAttributes[key];\n",
              "  }\n",
              "  return element;\n",
              "}\n",
              "\n",
              "// Max number of bytes which will be uploaded at a time.\n",
              "const MAX_PAYLOAD_SIZE = 100 * 1024;\n",
              "\n",
              "function _uploadFiles(inputId, outputId) {\n",
              "  const steps = uploadFilesStep(inputId, outputId);\n",
              "  const outputElement = document.getElementById(outputId);\n",
              "  // Cache steps on the outputElement to make it available for the next call\n",
              "  // to uploadFilesContinue from Python.\n",
              "  outputElement.steps = steps;\n",
              "\n",
              "  return _uploadFilesContinue(outputId);\n",
              "}\n",
              "\n",
              "// This is roughly an async generator (not supported in the browser yet),\n",
              "// where there are multiple asynchronous steps and the Python side is going\n",
              "// to poll for completion of each step.\n",
              "// This uses a Promise to block the python side on completion of each step,\n",
              "// then passes the result of the previous step as the input to the next step.\n",
              "function _uploadFilesContinue(outputId) {\n",
              "  const outputElement = document.getElementById(outputId);\n",
              "  const steps = outputElement.steps;\n",
              "\n",
              "  const next = steps.next(outputElement.lastPromiseValue);\n",
              "  return Promise.resolve(next.value.promise).then((value) => {\n",
              "    // Cache the last promise value to make it available to the next\n",
              "    // step of the generator.\n",
              "    outputElement.lastPromiseValue = value;\n",
              "    return next.value.response;\n",
              "  });\n",
              "}\n",
              "\n",
              "/**\n",
              " * Generator function which is called between each async step of the upload\n",
              " * process.\n",
              " * @param {string} inputId Element ID of the input file picker element.\n",
              " * @param {string} outputId Element ID of the output display.\n",
              " * @return {!Iterable<!Object>} Iterable of next steps.\n",
              " */\n",
              "function* uploadFilesStep(inputId, outputId) {\n",
              "  const inputElement = document.getElementById(inputId);\n",
              "  inputElement.disabled = false;\n",
              "\n",
              "  const outputElement = document.getElementById(outputId);\n",
              "  outputElement.innerHTML = '';\n",
              "\n",
              "  const pickedPromise = new Promise((resolve) => {\n",
              "    inputElement.addEventListener('change', (e) => {\n",
              "      resolve(e.target.files);\n",
              "    });\n",
              "  });\n",
              "\n",
              "  const cancel = document.createElement('button');\n",
              "  inputElement.parentElement.appendChild(cancel);\n",
              "  cancel.textContent = 'Cancel upload';\n",
              "  const cancelPromise = new Promise((resolve) => {\n",
              "    cancel.onclick = () => {\n",
              "      resolve(null);\n",
              "    };\n",
              "  });\n",
              "\n",
              "  // Wait for the user to pick the files.\n",
              "  const files = yield {\n",
              "    promise: Promise.race([pickedPromise, cancelPromise]),\n",
              "    response: {\n",
              "      action: 'starting',\n",
              "    }\n",
              "  };\n",
              "\n",
              "  cancel.remove();\n",
              "\n",
              "  // Disable the input element since further picks are not allowed.\n",
              "  inputElement.disabled = true;\n",
              "\n",
              "  if (!files) {\n",
              "    return {\n",
              "      response: {\n",
              "        action: 'complete',\n",
              "      }\n",
              "    };\n",
              "  }\n",
              "\n",
              "  for (const file of files) {\n",
              "    const li = document.createElement('li');\n",
              "    li.append(span(file.name, {fontWeight: 'bold'}));\n",
              "    li.append(span(\n",
              "        `(${file.type || 'n/a'}) - ${file.size} bytes, ` +\n",
              "        `last modified: ${\n",
              "            file.lastModifiedDate ? file.lastModifiedDate.toLocaleDateString() :\n",
              "                                    'n/a'} - `));\n",
              "    const percent = span('0% done');\n",
              "    li.appendChild(percent);\n",
              "\n",
              "    outputElement.appendChild(li);\n",
              "\n",
              "    const fileDataPromise = new Promise((resolve) => {\n",
              "      const reader = new FileReader();\n",
              "      reader.onload = (e) => {\n",
              "        resolve(e.target.result);\n",
              "      };\n",
              "      reader.readAsArrayBuffer(file);\n",
              "    });\n",
              "    // Wait for the data to be ready.\n",
              "    let fileData = yield {\n",
              "      promise: fileDataPromise,\n",
              "      response: {\n",
              "        action: 'continue',\n",
              "      }\n",
              "    };\n",
              "\n",
              "    // Use a chunked sending to avoid message size limits. See b/62115660.\n",
              "    let position = 0;\n",
              "    do {\n",
              "      const length = Math.min(fileData.byteLength - position, MAX_PAYLOAD_SIZE);\n",
              "      const chunk = new Uint8Array(fileData, position, length);\n",
              "      position += length;\n",
              "\n",
              "      const base64 = btoa(String.fromCharCode.apply(null, chunk));\n",
              "      yield {\n",
              "        response: {\n",
              "          action: 'append',\n",
              "          file: file.name,\n",
              "          data: base64,\n",
              "        },\n",
              "      };\n",
              "\n",
              "      let percentDone = fileData.byteLength === 0 ?\n",
              "          100 :\n",
              "          Math.round((position / fileData.byteLength) * 100);\n",
              "      percent.textContent = `${percentDone}% done`;\n",
              "\n",
              "    } while (position < fileData.byteLength);\n",
              "  }\n",
              "\n",
              "  // All done.\n",
              "  yield {\n",
              "    response: {\n",
              "      action: 'complete',\n",
              "    }\n",
              "  };\n",
              "}\n",
              "\n",
              "scope.google = scope.google || {};\n",
              "scope.google.colab = scope.google.colab || {};\n",
              "scope.google.colab._files = {\n",
              "  _uploadFiles,\n",
              "  _uploadFilesContinue,\n",
              "};\n",
              "})(self);\n",
              "</script> "
            ]
          },
          "metadata": {}
        },
        {
          "output_type": "stream",
          "name": "stdout",
          "text": [
            "Saving 3.mp4 to 3.mp4\n"
          ]
        }
      ],
      "source": [
        "# from google.colab import files\n",
        "\n",
        "# uploaded = files.upload()\n",
        "\n",
        "# # Move the uploaded video to a specific directory\n",
        "# os.makedirs('videos', exist_ok=True)\n",
        "# for file_name in uploaded.keys():\n",
        "#     os.rename(file_name, os.path.join('videos', file_name))\n",
        "\n"
      ]
    },
    {
      "cell_type": "code",
      "execution_count": null,
      "metadata": {
        "colab": {
          "base_uri": "https://localhost:8080/"
        },
        "id": "8Cb9-o7zyHF1",
        "outputId": "686965c1-db52-40f1-fdd6-9b6db1bf3466"
      },
      "outputs": [
        {
          "output_type": "stream",
          "name": "stdout",
          "text": [
            "1/1 [==============================] - 0s 48ms/step\n",
            "[[2.8614295e-03 2.1590880e-04 9.9665856e-01 2.6406694e-04]]\n",
            "Drive Shot\n"
          ]
        }
      ],
      "source": [
        "# video_path = 'videos/3.mp4'\n",
        "# new_frames = extract_frames(video_path)\n",
        "# new_frames = np.expand_dims(new_frames, axis=0)\n",
        "# new_frames = np.expand_dims(new_frames, axis=-1)\n",
        "\n",
        "# prediction = model.predict(new_frames)\n",
        "# predicted_class = np.argmax(prediction, axis=1)\n",
        "# print(prediction)\n",
        "# shot = {0: 'Defensive Shot', 1: 'Pull Shot', 2: 'Drive Shot', 3: 'Flick Shot'}\n",
        "# print(shot[predicted_class[0]])\n",
        "# # labels = {'Defensive Shot': 0,  'Pull Shot': 1, 'Drive Shot':2, 'Flick Shot':3}\n",
        "# #print('Predicted class:', 'Defensive shot' if predicted_class[0] == 0 else 'Drive Shot')"
      ]
    }
  ],
  "metadata": {
    "colab": {
      "provenance": []
    },
    "kernelspec": {
      "display_name": "Python 3",
      "name": "python3"
    },
    "language_info": {
      "name": "python"
    }
  },
  "nbformat": 4,
  "nbformat_minor": 0
}