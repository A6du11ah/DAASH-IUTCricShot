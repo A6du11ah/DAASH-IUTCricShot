{
  "cells": [
    {
      "cell_type": "code",
      "execution_count": 1,
      "metadata": {
        "colab": {
          "base_uri": "https://localhost:8080/"
        },
        "id": "DbCLwNadCRjv",
        "outputId": "81cebce6-d34b-4398-8913-0dc0f1f5bdd0"
      },
      "outputs": [
        {
          "output_type": "stream",
          "name": "stdout",
          "text": [
            "Mounted at /content/drive\n"
          ]
        }
      ],
      "source": [
        "from google.colab import drive\n",
        "drive.mount('/content/drive')\n"
      ]
    },
    {
      "cell_type": "code",
      "execution_count": 2,
      "metadata": {
        "colab": {
          "base_uri": "https://localhost:8080/"
        },
        "id": "arLj7VLTo2aF",
        "outputId": "7d1f03b7-6f0a-4d45-bc7b-63a29a0d5068"
      },
      "outputs": [
        {
          "output_type": "stream",
          "name": "stdout",
          "text": [
            "Requirement already satisfied: opencv-python-headless in /usr/local/lib/python3.10/dist-packages (4.10.0.84)\n",
            "Requirement already satisfied: numpy>=1.21.2 in /usr/local/lib/python3.10/dist-packages (from opencv-python-headless) (1.25.2)\n"
          ]
        }
      ],
      "source": [
        "!pip install opencv-python-headless"
      ]
    },
    {
      "cell_type": "code",
      "execution_count": 3,
      "metadata": {
        "id": "uGhkeCqZo2dE",
        "colab": {
          "base_uri": "https://localhost:8080/"
        },
        "outputId": "7db7c95f-35a9-4c28-e7ee-15a6320e27eb"
      },
      "outputs": [
        {
          "output_type": "stream",
          "name": "stdout",
          "text": [
            "/content/drive/My Drive/CroppedDetection/Defensive\n",
            "/content/drive/My Drive/CroppedDetection/Pull\n",
            "/content/drive/My Drive/CroppedDetection/Drive\n",
            "/content/drive/My Drive/CroppedDetection/Flick\n"
          ]
        }
      ],
      "source": [
        "import os\n",
        "import cv2\n",
        "import numpy as np\n",
        "\n",
        "def extract_frames(video_path, frame_count=10):\n",
        "    cap = cv2.VideoCapture(video_path)\n",
        "    frames = []\n",
        "    total_frames = int(cap.get(cv2.CAP_PROP_FRAME_COUNT))\n",
        "    interval = total_frames // frame_count\n",
        "\n",
        "    for i in range(frame_count):\n",
        "        cap.set(cv2.CAP_PROP_POS_FRAMES, i * interval)\n",
        "        ret, frame = cap.read()\n",
        "        if ret:\n",
        "            frame = cv2.resize(frame, (64, 64))\n",
        "            frames.append(frame)\n",
        "        else:\n",
        "            break\n",
        "    cap.release()\n",
        "    return np.array(frames)\n",
        "\n",
        "def load_data(data_dir):\n",
        "    X = []\n",
        "    y = []\n",
        "    labels = {'Defensive': 0, 'Pull': 1, 'Drive': 2, 'Flick': 3}\n",
        "\n",
        "    for label in labels:\n",
        "        videos_dir = os.path.join(data_dir, label)\n",
        "        videos = os.listdir(videos_dir)\n",
        "        print(videos_dir)\n",
        "        for video in videos:\n",
        "            video_path = os.path.join(videos_dir, video)\n",
        "            frames = extract_frames(video_path)\n",
        "            if len(frames) == 10:\n",
        "                X.append(frames)\n",
        "                y.append(labels[label])\n",
        "\n",
        "    X = np.array(X)\n",
        "    y = np.array(y)\n",
        "    return X, y\n",
        "\n",
        "data_dir = '/content/drive/My Drive/CroppedDetection'\n",
        "X, y = load_data(data_dir)"
      ]
    },
    {
      "cell_type": "code",
      "execution_count": 4,
      "metadata": {
        "id": "8I2qLP-DpP2b"
      },
      "outputs": [],
      "source": [
        "from sklearn.model_selection import train_test_split\n",
        "\n",
        "X_train, X_val, y_train, y_val = train_test_split(X, y, test_size=0.2, random_state=42)\n",
        "# X_train, X_val, y_train, y_val = train_test_split(X, y, test_size=0.2, stratify=y, random_state=42)\n",
        "\n",
        "X_train = X_train / 255.0\n",
        "X_val = X_val / 255.0\n",
        "\n",
        "# (batch_size, time_steps, height, width, channels)\n",
        "X_train = np.reshape(X_train, (X_train.shape[0], 10, 64, 64, 3))\n",
        "X_val = np.reshape(X_val, (X_val.shape[0], 10, 64, 64, 3))"
      ]
    },
    {
      "cell_type": "code",
      "source": [
        "import tensorflow as tf\n",
        "from tensorflow.keras.models import Sequential\n",
        "from tensorflow.keras.layers import TimeDistributed, Conv2D, MaxPooling2D, Flatten, LSTM, Dense, Dropout\n",
        "\n",
        "def create_LRCN_model(input_shape):\n",
        "    model = Sequential()\n",
        "\n",
        "    # Layer 1\n",
        "    model.add(TimeDistributed(Conv2D(filters=16, kernel_size=(3, 3), activation='tanh', padding='same'), input_shape=input_shape))\n",
        "    model.add(TimeDistributed(MaxPooling2D((4, 4))))\n",
        "    model.add(TimeDistributed(Dropout(0.2)))\n",
        "\n",
        "    # Layer 2\n",
        "    model.add(TimeDistributed(Conv2D(32, (3, 3), activation='tanh', padding='same')))\n",
        "    model.add(TimeDistributed(MaxPooling2D((4, 4))))\n",
        "    model.add(TimeDistributed(Dropout(0.2)))\n",
        "\n",
        "    # Layer 3\n",
        "    model.add(TimeDistributed(Conv2D(64, (3, 3), activation='tanh', padding='same')))\n",
        "    model.add(TimeDistributed(MaxPooling2D((2, 2))))\n",
        "    model.add(TimeDistributed(Dropout(0.2)))\n",
        "\n",
        "    model.add(TimeDistributed(MaxPooling2D((2, 2))))\n",
        "\n",
        "    # Flatten the output\n",
        "    model.add(TimeDistributed(Flatten()))\n",
        "\n",
        "    # Dense Layer\n",
        "   # model.add(TimeDistributed(Dense(64, activation='relu')))\n",
        "\n",
        "    # LSTM Layer\n",
        "    model.add(LSTM(32))\n",
        "\n",
        "    # Output Layer\n",
        "    model.add(Dense(4, activation='softmax'))  # Assuming 4 classes for the output\n",
        "\n",
        "    # Compile the model\n",
        "    model.compile(loss='sparse_categorical_crossentropy', optimizer='adam', metrics=['accuracy'])\n",
        "\n",
        "    return model"
      ],
      "metadata": {
        "id": "FmDR8MaSKuaX"
      },
      "execution_count": 5,
      "outputs": []
    },
    {
      "cell_type": "code",
      "execution_count": 6,
      "metadata": {
        "colab": {
          "base_uri": "https://localhost:8080/"
        },
        "id": "4Q2l2jDGGwVI",
        "outputId": "e736562b-7b6b-402b-a670-a445771506db"
      },
      "outputs": [
        {
          "output_type": "stream",
          "name": "stdout",
          "text": [
            "(10, 64, 64, 3)\n",
            "Model: \"sequential\"\n",
            "_________________________________________________________________\n",
            " Layer (type)                Output Shape              Param #   \n",
            "=================================================================\n",
            " time_distributed (TimeDist  (None, 10, 64, 64, 16)    448       \n",
            " ributed)                                                        \n",
            "                                                                 \n",
            " time_distributed_1 (TimeDi  (None, 10, 16, 16, 16)    0         \n",
            " stributed)                                                      \n",
            "                                                                 \n",
            " time_distributed_2 (TimeDi  (None, 10, 16, 16, 16)    0         \n",
            " stributed)                                                      \n",
            "                                                                 \n",
            " time_distributed_3 (TimeDi  (None, 10, 16, 16, 32)    4640      \n",
            " stributed)                                                      \n",
            "                                                                 \n",
            " time_distributed_4 (TimeDi  (None, 10, 4, 4, 32)      0         \n",
            " stributed)                                                      \n",
            "                                                                 \n",
            " time_distributed_5 (TimeDi  (None, 10, 4, 4, 32)      0         \n",
            " stributed)                                                      \n",
            "                                                                 \n",
            " time_distributed_6 (TimeDi  (None, 10, 4, 4, 64)      18496     \n",
            " stributed)                                                      \n",
            "                                                                 \n",
            " time_distributed_7 (TimeDi  (None, 10, 2, 2, 64)      0         \n",
            " stributed)                                                      \n",
            "                                                                 \n",
            " time_distributed_8 (TimeDi  (None, 10, 2, 2, 64)      0         \n",
            " stributed)                                                      \n",
            "                                                                 \n",
            " time_distributed_9 (TimeDi  (None, 10, 1, 1, 64)      0         \n",
            " stributed)                                                      \n",
            "                                                                 \n",
            " time_distributed_10 (TimeD  (None, 10, 64)            0         \n",
            " istributed)                                                     \n",
            "                                                                 \n",
            " lstm (LSTM)                 (None, 32)                12416     \n",
            "                                                                 \n",
            " dense (Dense)               (None, 4)                 132       \n",
            "                                                                 \n",
            "=================================================================\n",
            "Total params: 36132 (141.14 KB)\n",
            "Trainable params: 36132 (141.14 KB)\n",
            "Non-trainable params: 0 (0.00 Byte)\n",
            "_________________________________________________________________\n"
          ]
        }
      ],
      "source": [
        "input_shape = X_train.shape[1:]\n",
        "print(input_shape)\n",
        "model = create_LRCN_model(input_shape)\n",
        "\n",
        "#model_path = '/content/drive/My Drive/ShotDetection/LRCN_model.h5'\n",
        "\n",
        "# Load the model\n",
        "#model = tf.keras.models.load_model(model_path)\n",
        "\n",
        "\n",
        "model.summary()"
      ]
    },
    {
      "cell_type": "code",
      "execution_count": 7,
      "metadata": {
        "colab": {
          "base_uri": "https://localhost:8080/"
        },
        "id": "JSY0FtbTpcIX",
        "outputId": "72a6cb1a-0c6d-453e-d1b5-e3db6f63c53e"
      },
      "outputs": [
        {
          "output_type": "stream",
          "name": "stdout",
          "text": [
            "Epoch 1/30\n",
            "65/65 [==============================] - 39s 481ms/step - loss: 1.3858 - accuracy: 0.2738 - val_loss: 1.3756 - val_accuracy: 0.4070\n",
            "Epoch 2/30\n",
            "65/65 [==============================] - 25s 383ms/step - loss: 1.3477 - accuracy: 0.3670 - val_loss: 1.3116 - val_accuracy: 0.3333\n",
            "Epoch 3/30\n",
            "65/65 [==============================] - 25s 380ms/step - loss: 1.1302 - accuracy: 0.5282 - val_loss: 0.8683 - val_accuracy: 0.7054\n",
            "Epoch 4/30\n",
            "65/65 [==============================] - 24s 369ms/step - loss: 0.5829 - accuracy: 0.8184 - val_loss: 0.4596 - val_accuracy: 0.8527\n",
            "Epoch 5/30\n",
            "65/65 [==============================] - 25s 391ms/step - loss: 0.3941 - accuracy: 0.8825 - val_loss: 0.3365 - val_accuracy: 0.8798\n",
            "Epoch 6/30\n",
            "65/65 [==============================] - 27s 411ms/step - loss: 0.3049 - accuracy: 0.9058 - val_loss: 0.2927 - val_accuracy: 0.8953\n",
            "Epoch 7/30\n",
            "65/65 [==============================] - 22s 343ms/step - loss: 0.2635 - accuracy: 0.9068 - val_loss: 0.2079 - val_accuracy: 0.9147\n",
            "Epoch 8/30\n",
            "65/65 [==============================] - 25s 382ms/step - loss: 0.2600 - accuracy: 0.9039 - val_loss: 0.2065 - val_accuracy: 0.9341\n",
            "Epoch 9/30\n",
            "65/65 [==============================] - 26s 397ms/step - loss: 0.2245 - accuracy: 0.9184 - val_loss: 0.3055 - val_accuracy: 0.8721\n",
            "Epoch 10/30\n",
            "65/65 [==============================] - 26s 400ms/step - loss: 0.2026 - accuracy: 0.9233 - val_loss: 0.1670 - val_accuracy: 0.9341\n",
            "Epoch 11/30\n",
            "65/65 [==============================] - 25s 390ms/step - loss: 0.1775 - accuracy: 0.9408 - val_loss: 0.1884 - val_accuracy: 0.9186\n",
            "Epoch 12/30\n",
            "65/65 [==============================] - 26s 403ms/step - loss: 0.1702 - accuracy: 0.9350 - val_loss: 0.1694 - val_accuracy: 0.9302\n",
            "Epoch 13/30\n",
            "65/65 [==============================] - 24s 365ms/step - loss: 0.1511 - accuracy: 0.9485 - val_loss: 0.1499 - val_accuracy: 0.9419\n",
            "Epoch 14/30\n",
            "65/65 [==============================] - 25s 385ms/step - loss: 0.1182 - accuracy: 0.9583 - val_loss: 0.1714 - val_accuracy: 0.9225\n",
            "Epoch 15/30\n",
            "65/65 [==============================] - 26s 407ms/step - loss: 0.1250 - accuracy: 0.9660 - val_loss: 0.1224 - val_accuracy: 0.9612\n",
            "Epoch 16/30\n",
            "65/65 [==============================] - 23s 352ms/step - loss: 0.1146 - accuracy: 0.9592 - val_loss: 0.1485 - val_accuracy: 0.9341\n",
            "Epoch 17/30\n",
            "65/65 [==============================] - 27s 410ms/step - loss: 0.1032 - accuracy: 0.9650 - val_loss: 0.1849 - val_accuracy: 0.9302\n",
            "Epoch 18/30\n",
            "65/65 [==============================] - 25s 389ms/step - loss: 0.1047 - accuracy: 0.9660 - val_loss: 0.1501 - val_accuracy: 0.9264\n",
            "Epoch 19/30\n",
            "65/65 [==============================] - 23s 357ms/step - loss: 0.0865 - accuracy: 0.9738 - val_loss: 0.1117 - val_accuracy: 0.9574\n",
            "Epoch 20/30\n",
            "65/65 [==============================] - 26s 397ms/step - loss: 0.0807 - accuracy: 0.9699 - val_loss: 0.1166 - val_accuracy: 0.9457\n",
            "Epoch 21/30\n",
            "65/65 [==============================] - 25s 381ms/step - loss: 0.0729 - accuracy: 0.9757 - val_loss: 0.1749 - val_accuracy: 0.9225\n",
            "Epoch 22/30\n",
            "65/65 [==============================] - 23s 350ms/step - loss: 0.0853 - accuracy: 0.9680 - val_loss: 0.1351 - val_accuracy: 0.9419\n",
            "Epoch 23/30\n",
            "65/65 [==============================] - 33s 507ms/step - loss: 0.0624 - accuracy: 0.9786 - val_loss: 0.1107 - val_accuracy: 0.9612\n",
            "Epoch 24/30\n",
            "65/65 [==============================] - 25s 377ms/step - loss: 0.0719 - accuracy: 0.9767 - val_loss: 0.1501 - val_accuracy: 0.9496\n",
            "Epoch 25/30\n",
            "65/65 [==============================] - 24s 375ms/step - loss: 0.0849 - accuracy: 0.9748 - val_loss: 0.1040 - val_accuracy: 0.9574\n",
            "Epoch 26/30\n",
            "65/65 [==============================] - 25s 386ms/step - loss: 0.0600 - accuracy: 0.9835 - val_loss: 0.1013 - val_accuracy: 0.9690\n",
            "Epoch 27/30\n",
            "65/65 [==============================] - 25s 384ms/step - loss: 0.0390 - accuracy: 0.9932 - val_loss: 0.0984 - val_accuracy: 0.9651\n",
            "Epoch 28/30\n",
            "65/65 [==============================] - 24s 363ms/step - loss: 0.0382 - accuracy: 0.9903 - val_loss: 0.1043 - val_accuracy: 0.9612\n",
            "Epoch 29/30\n",
            "65/65 [==============================] - 26s 391ms/step - loss: 0.0493 - accuracy: 0.9854 - val_loss: 0.1176 - val_accuracy: 0.9419\n",
            "Epoch 30/30\n",
            "65/65 [==============================] - 31s 473ms/step - loss: 0.0562 - accuracy: 0.9816 - val_loss: 0.1354 - val_accuracy: 0.9419\n"
          ]
        }
      ],
      "source": [
        "from tensorflow.keras.callbacks import EarlyStopping\n",
        "\n",
        "early_stopping = EarlyStopping(monitor='val_loss', patience=5, restore_best_weights=True)\n",
        "\n",
        "history = model.fit(X_train, y_train, epochs=30, batch_size=16, validation_data=(X_val, y_val), callbacks=[early_stopping])"
      ]
    },
    {
      "cell_type": "code",
      "source": [
        "import matplotlib.pyplot as plt\n",
        "\n",
        "# Extract information from the history object\n",
        "acc = history.history['accuracy']\n",
        "val_acc = history.history['val_accuracy']\n",
        "loss = history.history['loss']\n",
        "val_loss = history.history['val_loss']\n",
        "epochs = range(len(acc))\n",
        "\n",
        "# Print history details\n",
        "print(\"Epochs:\", history.epoch)\n",
        "print(\"Params:\", history.params)\n",
        "print(\"Keys in history.history:\", history.history.keys())\n",
        "\n",
        "# Plot training vs. validation accuracy\n",
        "plt.figure(figsize=(12, 4))\n",
        "plt.subplot(1, 2, 1)\n",
        "plt.plot(epochs, acc, 'bo-', label='Training accuracy')\n",
        "plt.plot(epochs, val_acc, 'ro-', label='Validation accuracy')\n",
        "plt.title('Training and validation accuracy')\n",
        "plt.xlabel('Epochs')\n",
        "plt.ylabel('Accuracy')\n",
        "plt.legend()\n",
        "\n",
        "# Plot training vs. validation loss\n",
        "plt.subplot(1, 2, 2)\n",
        "plt.plot(epochs, loss, 'bo-', label='Training loss')\n",
        "plt.plot(epochs, val_loss, 'ro-', label='Validation loss')\n",
        "plt.title('Training and validation loss')\n",
        "plt.xlabel('Epochs')\n",
        "plt.ylabel('Loss')\n",
        "plt.legend()\n",
        "\n",
        "plt.tight_layout()\n",
        "plt.show()"
      ],
      "metadata": {
        "colab": {
          "base_uri": "https://localhost:8080/",
          "height": 459
        },
        "id": "mwGabeVMRGTP",
        "outputId": "9ab12bb2-5e31-400d-e228-c362fbe65bab"
      },
      "execution_count": 8,
      "outputs": [
        {
          "output_type": "stream",
          "name": "stdout",
          "text": [
            "Epochs: [0, 1, 2, 3, 4, 5, 6, 7, 8, 9, 10, 11, 12, 13, 14, 15, 16, 17, 18, 19, 20, 21, 22, 23, 24, 25, 26, 27, 28, 29]\n",
            "Params: {'verbose': 1, 'epochs': 30, 'steps': 65}\n",
            "Keys in history.history: dict_keys(['loss', 'accuracy', 'val_loss', 'val_accuracy'])\n"
          ]
        },
        {
          "output_type": "display_data",
          "data": {
            "text/plain": [
              "<Figure size 1200x400 with 2 Axes>"
            ],
            "image/png": "[encoded data removed]"
          },
          "metadata": {}
        }
      ]
    },
    {
      "cell_type": "code",
      "source": [
        "import numpy as np\n",
        "from sklearn.metrics import precision_score, recall_score, f1_score, classification_report\n",
        "from sklearn.preprocessing import LabelBinarizer\n",
        "\n",
        "# Make predictions\n",
        "y_pred_prob = model.predict(X)\n",
        "y_pred = np.argmax(y_pred_prob, axis=1)\n",
        "\n",
        "# Calculate precision, recall, and F1 score\n",
        "precision = precision_score(y, y_pred, average='macro')\n",
        "recall = recall_score(y, y_pred, average='macro')\n",
        "f1 = f1_score(y, y_pred, average='macro')\n",
        "\n",
        "# Display the metrics\n",
        "print(f'Precision: {precision * 100:.2f}%')\n",
        "print(f'Recall: {recall * 100:.2f}%')\n",
        "print(f'F1 Score: {f1 * 100:.2f}%')\n",
        "\n",
        "# Detailed classification report\n",
        "print(\"\\nClassification Report:\\n\", classification_report(y, y_pred))"
      ],
      "metadata": {
        "colab": {
          "base_uri": "https://localhost:8080/"
        },
        "id": "8nbxyOQyU4LE",
        "outputId": "488e654c-f2f7-4f0a-932f-589dbfe320de"
      },
      "execution_count": 9,
      "outputs": [
        {
          "output_type": "stream",
          "name": "stdout",
          "text": [
            "41/41 [==============================] - 12s 278ms/step\n",
            "Precision: 89.19%\n",
            "Recall: 85.11%\n",
            "F1 Score: 85.52%\n",
            "\n",
            "Classification Report:\n",
            "               precision    recall  f1-score   support\n",
            "\n",
            "           0       0.99      0.64      0.78       325\n",
            "           1       0.96      0.91      0.94       247\n",
            "           2       0.70      1.00      0.82       357\n",
            "           3       0.92      0.85      0.88       359\n",
            "\n",
            "    accuracy                           0.85      1288\n",
            "   macro avg       0.89      0.85      0.86      1288\n",
            "weighted avg       0.88      0.85      0.85      1288\n",
            "\n"
          ]
        }
      ]
    },
    {
      "cell_type": "code",
      "execution_count": 12,
      "metadata": {
        "id": "cL0D5fVzpcL1"
      },
      "outputs": [],
      "source": [
        "model.save('/content/drive/My Drive/CroppedDetection/lrcn-tuned-model-last.keras')"
      ]
    },
    {
      "cell_type": "code",
      "source": [
        "# model.save('/content/drive/My Drive/CroppedDetection/lrcn-tuned-model-nes-01.keras')"
      ],
      "metadata": {
        "id": "dxRHvsduMUDU"
      },
      "execution_count": null,
      "outputs": []
    },
    {
      "cell_type": "code",
      "source": [
        "# model_path = '/content/drive/My Drive/CroppedDetection/lrcn-tuned-model.keras'\n",
        "\n",
        "# # Load the model\n",
        "# model = tf.keras.models.load_model(model_path)"
      ],
      "metadata": {
        "id": "Z3hnAT85wtqv"
      },
      "execution_count": 13,
      "outputs": []
    },
    {
      "cell_type": "code",
      "source": [
        "# from google.colab import files\n",
        "\n",
        "# uploaded = files.upload()\n",
        "\n",
        "# # Move the uploaded video to a specific directory\n",
        "# os.makedirs('videos', exist_ok=True)\n",
        "# for file_name in uploaded.keys():\n",
        "#     os.rename(file_name, os.path.join('videos', file_name))"
      ],
      "metadata": {
        "id": "zua7U8RaiIFf"
      },
      "execution_count": null,
      "outputs": []
    },
    {
      "cell_type": "code",
      "execution_count": null,
      "metadata": {
        "colab": {
          "base_uri": "https://localhost:8080/"
        },
        "id": "8Cb9-o7zyHF1",
        "outputId": "686965c1-db52-40f1-fdd6-9b6db1bf3466"
      },
      "outputs": [
        {
          "output_type": "stream",
          "name": "stdout",
          "text": [
            "1/1 [==============================] - 0s 48ms/step\n",
            "[[2.8614295e-03 2.1590880e-04 9.9665856e-01 2.6406694e-04]]\n",
            "Drive Shot\n"
          ]
        }
      ],
      "source": [
        "# video_path = 'videos/3.mp4'\n",
        "# new_frames = extract_frames(video_path)\n",
        "# new_frames = np.expand_dims(new_frames, axis=0)\n",
        "# new_frames = np.expand_dims(new_frames, axis=-1)\n",
        "\n",
        "# prediction = model.predict(new_frames)\n",
        "# predicted_class = np.argmax(prediction, axis=1)\n",
        "# print(prediction)\n",
        "# shot = {0: 'Defensive Shot', 1: 'Pull Shot', 2: 'Drive Shot', 3: 'Flick Shot'}\n",
        "# print(shot[predicted_class[0]])\n",
        "# # labels = {'Defensive Shot': 0,  'Pull Shot': 1, 'Drive Shot':2, 'Flick Shot':3}\n",
        "# #print('Predicted class:', 'Defensive shot' if predicted_class[0] == 0 else 'Drive Shot')"
      ]
    }
  ],
  "metadata": {
    "colab": {
      "provenance": []
    },
    "kernelspec": {
      "display_name": "Python 3",
      "name": "python3"
    },
    "language_info": {
      "name": "python"
    }
  },
  "nbformat": 4,
  "nbformat_minor": 0
}