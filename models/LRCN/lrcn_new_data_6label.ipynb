{
  "cells": [
    {
      "cell_type": "code",
      "execution_count": null,
      "metadata": {
        "colab": {
          "base_uri": "https://localhost:8080/"
        },
        "id": "DbCLwNadCRjv",
        "outputId": "a2cbca74-0674-402d-8929-c650836871e7"
      },
      "outputs": [
        {
          "output_type": "stream",
          "name": "stdout",
          "text": [
            "Mounted at /content/drive\n"
          ]
        }
      ],
      "source": [
        "from google.colab import drive\n",
        "drive.mount('/content/drive')\n"
      ]
    },
    {
      "cell_type": "code",
      "execution_count": null,
      "metadata": {
        "colab": {
          "base_uri": "https://localhost:8080/"
        },
        "id": "arLj7VLTo2aF",
        "outputId": "d09d1b69-d119-43f9-da83-1eea9394d240"
      },
      "outputs": [
        {
          "output_type": "stream",
          "name": "stdout",
          "text": [
            "Requirement already satisfied: opencv-python-headless in /usr/local/lib/python3.10/dist-packages (4.10.0.84)\n",
            "Requirement already satisfied: numpy>=1.21.2 in /usr/local/lib/python3.10/dist-packages (from opencv-python-headless) (1.25.2)\n"
          ]
        }
      ],
      "source": [
        "!pip install opencv-python-headless"
      ]
    },
    {
      "cell_type": "code",
      "execution_count": null,
      "metadata": {
        "id": "uGhkeCqZo2dE",
        "colab": {
          "base_uri": "https://localhost:8080/"
        },
        "outputId": "1bc2ae7e-3799-4c9c-a113-1b2a7d33cdb1"
      },
      "outputs": [
        {
          "output_type": "stream",
          "name": "stdout",
          "text": [
            "/content/drive/My Drive/NewCroppedShot/defense\n",
            "/content/drive/My Drive/NewCroppedShot/cover\n",
            "/content/drive/My Drive/NewCroppedShot/flick\n",
            "/content/drive/My Drive/NewCroppedShot/pull\n",
            "/content/drive/My Drive/NewCroppedShot/lofted\n",
            "/content/drive/My Drive/NewCroppedShot/sweep\n"
          ]
        }
      ],
      "source": [
        "import os\n",
        "import cv2\n",
        "import numpy as np\n",
        "\n",
        "def extract_frames(video_path, frame_count=10):\n",
        "    cap = cv2.VideoCapture(video_path)\n",
        "    frames = []\n",
        "    total_frames = int(cap.get(cv2.CAP_PROP_FRAME_COUNT))\n",
        "    interval = total_frames // frame_count\n",
        "\n",
        "    for i in range(frame_count):\n",
        "        cap.set(cv2.CAP_PROP_POS_FRAMES, i * interval)\n",
        "        ret, frame = cap.read()\n",
        "        if ret:\n",
        "            frame = cv2.resize(frame, (64, 64))\n",
        "            frames.append(frame)\n",
        "        else:\n",
        "            break\n",
        "    cap.release()\n",
        "    return np.array(frames)\n",
        "\n",
        "def load_data(data_dir):\n",
        "    X = []\n",
        "    y = []\n",
        "    labels = {'defense': 0, 'cover': 1, 'flick': 2, 'pull': 3, 'lofted':4, 'sweep':5}\n",
        "\n",
        "    for label in labels:\n",
        "        videos_dir = os.path.join(data_dir, label)\n",
        "        videos = os.listdir(videos_dir)\n",
        "        print(videos_dir)\n",
        "        for video in videos:\n",
        "            video_path = os.path.join(videos_dir, video)\n",
        "            frames = extract_frames(video_path)\n",
        "            if len(frames) == 10:\n",
        "                X.append(frames)\n",
        "                y.append(labels[label])\n",
        "\n",
        "    X = np.array(X)\n",
        "    y = np.array(y)\n",
        "    return X, y\n",
        "\n",
        "data_dir = '/content/drive/My Drive/NewCroppedShot'\n",
        "X, y = load_data(data_dir)"
      ]
    },
    {
      "cell_type": "code",
      "execution_count": null,
      "metadata": {
        "id": "8I2qLP-DpP2b"
      },
      "outputs": [],
      "source": [
        "from sklearn.model_selection import train_test_split\n",
        "\n",
        "# X_train, X_val, y_train, y_val = train_test_split(X, y, test_size=0.2, stratify=y, random_state=42)\n",
        "\n",
        "X_train = X\n",
        "X_val = X\n",
        "y_train = y\n",
        "y_val = y\n",
        "\n",
        "X_train = X_train / 255.0\n",
        "X_val = X_val / 255.0\n",
        "\n",
        "# (batch_size, time_steps, height, width, channels)\n",
        "X_train = np.reshape(X_train, (X_train.shape[0], 10, 64, 64, 3))\n",
        "X_val = np.reshape(X_val, (X_val.shape[0], 10, 64, 64, 3))"
      ]
    },
    {
      "cell_type": "code",
      "source": [
        "import tensorflow as tf\n",
        "from tensorflow.keras.models import Sequential\n",
        "from tensorflow.keras.layers import TimeDistributed, Conv2D, MaxPooling2D, Flatten, LSTM, Dense, Dropout\n",
        "\n",
        "def create_LRCN_model(input_shape):\n",
        "    model = Sequential()\n",
        "\n",
        "    # Layer 1\n",
        "    model.add(TimeDistributed(Conv2D(filters=16, kernel_size=(3, 3), activation='tanh', padding='same'), input_shape=input_shape))\n",
        "    model.add(TimeDistributed(MaxPooling2D((4, 4))))\n",
        "    model.add(TimeDistributed(Dropout(0.2)))\n",
        "\n",
        "    # Layer 2\n",
        "    model.add(TimeDistributed(Conv2D(32, (3, 3), activation='tanh', padding='same')))\n",
        "    model.add(TimeDistributed(MaxPooling2D((4, 4))))\n",
        "    model.add(TimeDistributed(Dropout(0.2)))\n",
        "\n",
        "    # Layer 3\n",
        "    model.add(TimeDistributed(Conv2D(64, (3, 3), activation='tanh', padding='same')))\n",
        "    model.add(TimeDistributed(MaxPooling2D((2, 2))))\n",
        "    model.add(TimeDistributed(Dropout(0.2)))\n",
        "\n",
        "    model.add(TimeDistributed(MaxPooling2D((2, 2))))\n",
        "\n",
        "    # Flatten the output\n",
        "    model.add(TimeDistributed(Flatten()))\n",
        "\n",
        "    # Dense Layer\n",
        "   # model.add(TimeDistributed(Dense(64, activation='relu')))\n",
        "\n",
        "    # LSTM Layer\n",
        "    model.add(LSTM(32))\n",
        "\n",
        "    # Output Layer\n",
        "    model.add(Dense(6, activation='softmax'))  # Assuming 6 classes for the output\n",
        "\n",
        "    # Compile the model\n",
        "    model.compile(loss='sparse_categorical_crossentropy', optimizer='adam', metrics=['accuracy'])\n",
        "\n",
        "    return model"
      ],
      "metadata": {
        "id": "FmDR8MaSKuaX"
      },
      "execution_count": null,
      "outputs": []
    },
    {
      "cell_type": "code",
      "execution_count": null,
      "metadata": {
        "colab": {
          "base_uri": "https://localhost:8080/"
        },
        "id": "4Q2l2jDGGwVI",
        "outputId": "53b1a65a-925a-4daf-ed8b-acae2d8cd5db"
      },
      "outputs": [
        {
          "output_type": "stream",
          "name": "stdout",
          "text": [
            "(10, 64, 64, 3)\n",
            "Model: \"sequential\"\n",
            "_________________________________________________________________\n",
            " Layer (type)                Output Shape              Param #   \n",
            "=================================================================\n",
            " time_distributed (TimeDist  (None, 10, 64, 64, 16)    448       \n",
            " ributed)                                                        \n",
            "                                                                 \n",
            " time_distributed_1 (TimeDi  (None, 10, 16, 16, 16)    0         \n",
            " stributed)                                                      \n",
            "                                                                 \n",
            " time_distributed_2 (TimeDi  (None, 10, 16, 16, 16)    0         \n",
            " stributed)                                                      \n",
            "                                                                 \n",
            " time_distributed_3 (TimeDi  (None, 10, 16, 16, 32)    4640      \n",
            " stributed)                                                      \n",
            "                                                                 \n",
            " time_distributed_4 (TimeDi  (None, 10, 4, 4, 32)      0         \n",
            " stributed)                                                      \n",
            "                                                                 \n",
            " time_distributed_5 (TimeDi  (None, 10, 4, 4, 32)      0         \n",
            " stributed)                                                      \n",
            "                                                                 \n",
            " time_distributed_6 (TimeDi  (None, 10, 4, 4, 64)      18496     \n",
            " stributed)                                                      \n",
            "                                                                 \n",
            " time_distributed_7 (TimeDi  (None, 10, 2, 2, 64)      0         \n",
            " stributed)                                                      \n",
            "                                                                 \n",
            " time_distributed_8 (TimeDi  (None, 10, 2, 2, 64)      0         \n",
            " stributed)                                                      \n",
            "                                                                 \n",
            " time_distributed_9 (TimeDi  (None, 10, 1, 1, 64)      0         \n",
            " stributed)                                                      \n",
            "                                                                 \n",
            " time_distributed_10 (TimeD  (None, 10, 64)            0         \n",
            " istributed)                                                     \n",
            "                                                                 \n",
            " lstm (LSTM)                 (None, 32)                12416     \n",
            "                                                                 \n",
            " dense (Dense)               (None, 6)                 198       \n",
            "                                                                 \n",
            "=================================================================\n",
            "Total params: 36198 (141.40 KB)\n",
            "Trainable params: 36198 (141.40 KB)\n",
            "Non-trainable params: 0 (0.00 Byte)\n",
            "_________________________________________________________________\n"
          ]
        }
      ],
      "source": [
        "input_shape = X_train.shape[1:]\n",
        "print(input_shape)\n",
        "model = create_LRCN_model(input_shape)\n",
        "\n",
        "#model_path = '/content/drive/My Drive/ShotDetection/LRCN_model.h5'\n",
        "\n",
        "# Load the model\n",
        "#model = tf.keras.models.load_model(model_path)\n",
        "\n",
        "model.summary()"
      ]
    },
    {
      "cell_type": "code",
      "execution_count": null,
      "metadata": {
        "colab": {
          "base_uri": "https://localhost:8080/"
        },
        "id": "JSY0FtbTpcIX",
        "outputId": "77923b89-ead4-48aa-9e9f-f524211a67d0"
      },
      "outputs": [
        {
          "output_type": "stream",
          "name": "stdout",
          "text": [
            "Epoch 1/50\n",
            "71/71 [==============================] - 54s 649ms/step - loss: 1.7903 - accuracy: 0.2184 - val_loss: 1.7444 - val_accuracy: 0.2971\n",
            "Epoch 2/50\n",
            "71/71 [==============================] - 35s 502ms/step - loss: 1.7034 - accuracy: 0.2891 - val_loss: 1.6330 - val_accuracy: 0.3492\n",
            "Epoch 3/50\n",
            "71/71 [==============================] - 41s 586ms/step - loss: 1.6140 - accuracy: 0.3324 - val_loss: 1.5326 - val_accuracy: 0.4067\n",
            "Epoch 4/50\n",
            "71/71 [==============================] - 35s 491ms/step - loss: 1.5256 - accuracy: 0.3837 - val_loss: 1.4108 - val_accuracy: 0.4447\n",
            "Epoch 5/50\n",
            "71/71 [==============================] - 37s 526ms/step - loss: 1.3773 - accuracy: 0.4509 - val_loss: 1.3180 - val_accuracy: 0.4828\n",
            "Epoch 6/50\n",
            "71/71 [==============================] - 36s 500ms/step - loss: 1.2784 - accuracy: 0.4898 - val_loss: 1.1633 - val_accuracy: 0.5500\n",
            "Epoch 7/50\n",
            "71/71 [==============================] - 36s 509ms/step - loss: 1.1275 - accuracy: 0.5588 - val_loss: 1.1219 - val_accuracy: 0.5597\n",
            "Epoch 8/50\n",
            "71/71 [==============================] - 37s 530ms/step - loss: 1.0712 - accuracy: 0.5800 - val_loss: 1.0043 - val_accuracy: 0.5915\n",
            "Epoch 9/50\n",
            "71/71 [==============================] - 45s 644ms/step - loss: 1.0393 - accuracy: 0.5836 - val_loss: 0.9775 - val_accuracy: 0.6225\n",
            "Epoch 10/50\n",
            "71/71 [==============================] - 36s 508ms/step - loss: 0.9831 - accuracy: 0.6233 - val_loss: 0.8839 - val_accuracy: 0.6914\n",
            "Epoch 11/50\n",
            "71/71 [==============================] - 36s 515ms/step - loss: 0.9116 - accuracy: 0.6401 - val_loss: 0.8566 - val_accuracy: 0.6649\n",
            "Epoch 12/50\n",
            "71/71 [==============================] - 36s 508ms/step - loss: 0.8606 - accuracy: 0.6817 - val_loss: 0.8040 - val_accuracy: 0.7038\n",
            "Epoch 13/50\n",
            "71/71 [==============================] - 35s 501ms/step - loss: 0.8680 - accuracy: 0.6844 - val_loss: 0.8602 - val_accuracy: 0.6835\n",
            "Epoch 14/50\n",
            "71/71 [==============================] - 36s 510ms/step - loss: 0.8234 - accuracy: 0.6897 - val_loss: 0.7710 - val_accuracy: 0.6958\n",
            "Epoch 15/50\n",
            "71/71 [==============================] - 37s 515ms/step - loss: 0.7413 - accuracy: 0.7206 - val_loss: 0.6842 - val_accuracy: 0.7551\n",
            "Epoch 16/50\n",
            "71/71 [==============================] - 40s 562ms/step - loss: 0.6787 - accuracy: 0.7507 - val_loss: 0.6862 - val_accuracy: 0.7507\n",
            "Epoch 17/50\n",
            "71/71 [==============================] - 47s 668ms/step - loss: 0.6786 - accuracy: 0.7533 - val_loss: 0.5695 - val_accuracy: 0.7949\n",
            "Epoch 18/50\n",
            "71/71 [==============================] - 46s 643ms/step - loss: 0.6300 - accuracy: 0.7595 - val_loss: 0.5707 - val_accuracy: 0.7869\n",
            "Epoch 19/50\n",
            "71/71 [==============================] - 35s 501ms/step - loss: 0.6031 - accuracy: 0.7816 - val_loss: 0.5034 - val_accuracy: 0.8426\n",
            "Epoch 20/50\n",
            "71/71 [==============================] - 36s 510ms/step - loss: 0.5644 - accuracy: 0.7958 - val_loss: 0.4615 - val_accuracy: 0.8488\n",
            "Epoch 21/50\n",
            "71/71 [==============================] - 46s 644ms/step - loss: 0.5834 - accuracy: 0.7878 - val_loss: 0.5006 - val_accuracy: 0.8355\n",
            "Epoch 22/50\n",
            "71/71 [==============================] - 39s 546ms/step - loss: 0.5158 - accuracy: 0.8081 - val_loss: 0.4228 - val_accuracy: 0.8532\n",
            "Epoch 23/50\n",
            "71/71 [==============================] - 38s 543ms/step - loss: 0.5284 - accuracy: 0.8064 - val_loss: 0.3808 - val_accuracy: 0.8771\n",
            "Epoch 24/50\n",
            "71/71 [==============================] - 35s 490ms/step - loss: 0.4322 - accuracy: 0.8532 - val_loss: 0.3370 - val_accuracy: 0.8895\n",
            "Epoch 25/50\n",
            "71/71 [==============================] - 37s 527ms/step - loss: 0.4454 - accuracy: 0.8444 - val_loss: 0.3306 - val_accuracy: 0.8930\n",
            "Epoch 26/50\n",
            "71/71 [==============================] - 35s 494ms/step - loss: 0.4496 - accuracy: 0.8391 - val_loss: 0.3222 - val_accuracy: 0.8939\n",
            "Epoch 27/50\n",
            "71/71 [==============================] - 37s 527ms/step - loss: 0.3828 - accuracy: 0.8647 - val_loss: 0.3442 - val_accuracy: 0.8683\n",
            "Epoch 28/50\n",
            "71/71 [==============================] - 38s 537ms/step - loss: 0.3708 - accuracy: 0.8674 - val_loss: 0.2566 - val_accuracy: 0.9098\n",
            "Epoch 29/50\n",
            "71/71 [==============================] - 37s 527ms/step - loss: 0.3506 - accuracy: 0.8780 - val_loss: 0.2399 - val_accuracy: 0.9204\n",
            "Epoch 30/50\n",
            "71/71 [==============================] - 35s 492ms/step - loss: 0.3585 - accuracy: 0.8824 - val_loss: 0.2131 - val_accuracy: 0.9363\n",
            "Epoch 31/50\n",
            "71/71 [==============================] - 34s 484ms/step - loss: 0.3225 - accuracy: 0.8904 - val_loss: 0.2019 - val_accuracy: 0.9487\n",
            "Epoch 32/50\n",
            "71/71 [==============================] - 37s 526ms/step - loss: 0.2863 - accuracy: 0.9045 - val_loss: 0.1959 - val_accuracy: 0.9469\n",
            "Epoch 33/50\n",
            "71/71 [==============================] - 35s 500ms/step - loss: 0.3382 - accuracy: 0.8771 - val_loss: 0.2073 - val_accuracy: 0.9381\n",
            "Epoch 34/50\n",
            "71/71 [==============================] - 37s 523ms/step - loss: 0.2984 - accuracy: 0.9001 - val_loss: 0.2367 - val_accuracy: 0.9178\n",
            "Epoch 35/50\n",
            "71/71 [==============================] - 39s 554ms/step - loss: 0.3008 - accuracy: 0.8877 - val_loss: 0.1467 - val_accuracy: 0.9664\n",
            "Epoch 36/50\n",
            "71/71 [==============================] - 37s 527ms/step - loss: 0.2568 - accuracy: 0.9195 - val_loss: 0.1376 - val_accuracy: 0.9735\n",
            "Epoch 37/50\n",
            "71/71 [==============================] - 46s 646ms/step - loss: 0.2429 - accuracy: 0.9248 - val_loss: 0.1677 - val_accuracy: 0.9487\n",
            "Epoch 38/50\n",
            "71/71 [==============================] - 36s 512ms/step - loss: 0.2705 - accuracy: 0.9089 - val_loss: 0.1275 - val_accuracy: 0.9691\n",
            "Epoch 39/50\n",
            "71/71 [==============================] - 37s 520ms/step - loss: 0.2354 - accuracy: 0.9187 - val_loss: 0.1308 - val_accuracy: 0.9655\n",
            "Epoch 40/50\n",
            "71/71 [==============================] - 35s 489ms/step - loss: 0.2817 - accuracy: 0.8948 - val_loss: 0.1270 - val_accuracy: 0.9699\n",
            "Epoch 41/50\n",
            "71/71 [==============================] - 39s 556ms/step - loss: 0.2447 - accuracy: 0.9169 - val_loss: 0.1488 - val_accuracy: 0.9637\n",
            "Epoch 42/50\n",
            "71/71 [==============================] - 46s 655ms/step - loss: 0.2382 - accuracy: 0.9169 - val_loss: 0.1153 - val_accuracy: 0.9726\n",
            "Epoch 43/50\n",
            "71/71 [==============================] - 37s 523ms/step - loss: 0.2109 - accuracy: 0.9363 - val_loss: 0.1239 - val_accuracy: 0.9735\n",
            "Epoch 44/50\n",
            "71/71 [==============================] - 47s 664ms/step - loss: 0.1774 - accuracy: 0.9425 - val_loss: 0.0956 - val_accuracy: 0.9770\n",
            "Epoch 45/50\n",
            "71/71 [==============================] - 45s 640ms/step - loss: 0.2071 - accuracy: 0.9302 - val_loss: 0.1307 - val_accuracy: 0.9691\n",
            "Epoch 46/50\n",
            "71/71 [==============================] - 35s 489ms/step - loss: 0.2225 - accuracy: 0.9293 - val_loss: 0.0836 - val_accuracy: 0.9850\n",
            "Epoch 47/50\n",
            "71/71 [==============================] - 39s 546ms/step - loss: 0.1576 - accuracy: 0.9505 - val_loss: 0.0824 - val_accuracy: 0.9841\n",
            "Epoch 48/50\n",
            "71/71 [==============================] - 35s 496ms/step - loss: 0.1968 - accuracy: 0.9266 - val_loss: 0.0675 - val_accuracy: 0.9867\n",
            "Epoch 49/50\n",
            "71/71 [==============================] - 34s 488ms/step - loss: 0.1619 - accuracy: 0.9416 - val_loss: 0.0737 - val_accuracy: 0.9859\n",
            "Epoch 50/50\n",
            "71/71 [==============================] - 47s 665ms/step - loss: 0.1538 - accuracy: 0.9558 - val_loss: 0.0644 - val_accuracy: 0.9947\n"
          ]
        }
      ],
      "source": [
        "from tensorflow.keras.callbacks import EarlyStopping\n",
        "\n",
        "early_stopping = EarlyStopping(monitor='val_loss', patience=5, restore_best_weights=True)\n",
        "\n",
        "history = model.fit(X_train, y_train, epochs=50, batch_size=16, validation_data=(X_val, y_val), callbacks=[early_stopping])"
      ]
    },
    {
      "cell_type": "code",
      "source": [
        "import matplotlib.pyplot as plt\n",
        "\n",
        "# Extract information from the history object\n",
        "acc = history.history['accuracy']\n",
        "val_acc = history.history['val_accuracy']\n",
        "loss = history.history['loss']\n",
        "val_loss = history.history['val_loss']\n",
        "epochs = range(len(acc))\n",
        "\n",
        "# Print history details\n",
        "print(\"Epochs:\", history.epoch)\n",
        "print(\"Params:\", history.params)\n",
        "print(\"Keys in history.history:\", history.history.keys())\n",
        "\n",
        "# Plot training vs. validation accuracy\n",
        "plt.figure(figsize=(12, 4))\n",
        "plt.subplot(1, 2, 1)\n",
        "plt.plot(epochs, acc, 'bo-', label='Training accuracy')\n",
        "plt.plot(epochs, val_acc, 'ro-', label='Validation accuracy')\n",
        "plt.title('Training and validation accuracy')\n",
        "plt.xlabel('Epochs')\n",
        "plt.ylabel('Accuracy')\n",
        "plt.legend()\n",
        "\n",
        "# Plot training vs. validation loss\n",
        "plt.subplot(1, 2, 2)\n",
        "plt.plot(epochs, loss, 'bo-', label='Training loss')\n",
        "plt.plot(epochs, val_loss, 'ro-', label='Validation loss')\n",
        "plt.title('Training and validation loss')\n",
        "plt.xlabel('Epochs')\n",
        "plt.ylabel('Loss')\n",
        "plt.legend()\n",
        "\n",
        "plt.tight_layout()\n",
        "plt.show()"
      ],
      "metadata": {
        "colab": {
          "base_uri": "https://localhost:8080/",
          "height": 479
        },
        "id": "mwGabeVMRGTP",
        "outputId": "9e0409c2-d42f-4ade-a357-a097a270fe38"
      },
      "execution_count": null,
      "outputs": [
        {
          "output_type": "stream",
          "name": "stdout",
          "text": [
            "Epochs: [0, 1, 2, 3, 4, 5, 6, 7, 8, 9, 10, 11, 12, 13, 14, 15, 16, 17, 18, 19, 20, 21, 22, 23, 24, 25, 26, 27, 28, 29, 30, 31, 32, 33, 34, 35, 36, 37, 38, 39, 40, 41, 42, 43, 44, 45, 46, 47, 48, 49]\n",
            "Params: {'verbose': 1, 'epochs': 50, 'steps': 71}\n",
            "Keys in history.history: dict_keys(['loss', 'accuracy', 'val_loss', 'val_accuracy'])\n"
          ]
        },
        {
          "output_type": "display_data",
          "data": {
            "text/plain": [
              "<Figure size 1200x400 with 2 Axes>"
            ],
            "image/png": "[encoded data removed]"
          },
          "metadata": {}
        }
      ]
    },
    {
      "cell_type": "code",
      "source": [
        "import numpy as np\n",
        "from sklearn.metrics import precision_score, recall_score, f1_score, classification_report\n",
        "from sklearn.preprocessing import LabelBinarizer\n",
        "\n",
        "# Make predictions\n",
        "y_pred_prob = model.predict(X)\n",
        "y_pred = np.argmax(y_pred_prob, axis=1)\n",
        "\n",
        "# Calculate precision, recall, and F1 score\n",
        "precision = precision_score(y, y_pred, average='macro')\n",
        "recall = recall_score(y, y_pred, average='macro')\n",
        "f1 = f1_score(y, y_pred, average='macro')\n",
        "\n",
        "# Display the metrics\n",
        "print(f'Precision: {precision * 100:.2f}%')\n",
        "print(f'Recall: {recall * 100:.2f}%')\n",
        "print(f'F1 Score: {f1 * 100:.2f}%')\n",
        "\n",
        "# Detailed classification report\n",
        "print(\"\\nClassification Report:\\n\", classification_report(y, y_pred))"
      ],
      "metadata": {
        "colab": {
          "base_uri": "https://localhost:8080/"
        },
        "id": "X4j9PE_dl_Wj",
        "outputId": "b0407c34-7cff-4f4d-da97-08ea4fe22e14"
      },
      "execution_count": null,
      "outputs": [
        {
          "output_type": "stream",
          "name": "stdout",
          "text": [
            "36/36 [==============================] - 15s 401ms/step\n",
            "Precision: 72.84%\n",
            "Recall: 46.30%\n",
            "F1 Score: 39.15%\n",
            "\n",
            "Classification Report:\n",
            "               precision    recall  f1-score   support\n",
            "\n",
            "           0       1.00      0.02      0.03       192\n",
            "           1       0.27      0.90      0.41       187\n",
            "           2       1.00      0.03      0.05       181\n",
            "           3       0.70      0.75      0.72       179\n",
            "           4       0.71      0.25      0.37       198\n",
            "           5       0.69      0.84      0.75       194\n",
            "\n",
            "    accuracy                           0.46      1131\n",
            "   macro avg       0.73      0.46      0.39      1131\n",
            "weighted avg       0.73      0.46      0.39      1131\n",
            "\n"
          ]
        }
      ]
    },
    {
      "cell_type": "code",
      "source": [
        "model.save('/content/drive/My Drive/NewCroppedShot/lrcn-new-data-tuned-model-6label-max.keras')"
      ],
      "metadata": {
        "id": "dxRHvsduMUDU"
      },
      "execution_count": null,
      "outputs": []
    },
    {
      "cell_type": "code",
      "execution_count": null,
      "metadata": {
        "colab": {
          "base_uri": "https://localhost:8080/",
          "height": 73
        },
        "id": "X5BUqRMFyHCh",
        "outputId": "9d22b663-c77a-4572-9670-7b62a843f40d"
      },
      "outputs": [
        {
          "output_type": "display_data",
          "data": {
            "text/plain": [
              "<IPython.core.display.HTML object>"
            ],
            "text/html": [
              "\n",
              "     <input type=\"file\" id=\"files-97578a88-9122-4756-b768-ca1aebdd286c\" name=\"files[]\" multiple disabled\n",
              "        style=\"border:none\" />\n",
              "     <output id=\"result-97578a88-9122-4756-b768-ca1aebdd286c\">\n",
              "      Upload widget is only available when the cell has been executed in the\n",
              "      current browser session. Please rerun this cell to enable.\n",
              "      </output>\n",
              "      <script>// Copyright 2017 Google LLC\n",
              "//\n",
              "// Licensed under the Apache License, Version 2.0 (the \"License\");\n",
              "// you may not use this file except in compliance with the License.\n",
              "// You may obtain a copy of the License at\n",
              "//\n",
              "//      http://www.apache.org/licenses/LICENSE-2.0\n",
              "//\n",
              "// Unless required by applicable law or agreed to in writing, software\n",
              "// distributed under the License is distributed on an \"AS IS\" BASIS,\n",
              "// WITHOUT WARRANTIES OR CONDITIONS OF ANY KIND, either express or implied.\n",
              "// See the License for the specific language governing permissions and\n",
              "// limitations under the License.\n",
              "\n",
              "/**\n",
              " * @fileoverview Helpers for google.colab Python module.\n",
              " */\n",
              "(function(scope) {\n",
              "function span(text, styleAttributes = {}) {\n",
              "  const element = document.createElement('span');\n",
              "  element.textContent = text;\n",
              "  for (const key of Object.keys(styleAttributes)) {\n",
              "    element.style[key] = styleAttributes[key];\n",
              "  }\n",
              "  return element;\n",
              "}\n",
              "\n",
              "// Max number of bytes which will be uploaded at a time.\n",
              "const MAX_PAYLOAD_SIZE = 100 * 1024;\n",
              "\n",
              "function _uploadFiles(inputId, outputId) {\n",
              "  const steps = uploadFilesStep(inputId, outputId);\n",
              "  const outputElement = document.getElementById(outputId);\n",
              "  // Cache steps on the outputElement to make it available for the next call\n",
              "  // to uploadFilesContinue from Python.\n",
              "  outputElement.steps = steps;\n",
              "\n",
              "  return _uploadFilesContinue(outputId);\n",
              "}\n",
              "\n",
              "// This is roughly an async generator (not supported in the browser yet),\n",
              "// where there are multiple asynchronous steps and the Python side is going\n",
              "// to poll for completion of each step.\n",
              "// This uses a Promise to block the python side on completion of each step,\n",
              "// then passes the result of the previous step as the input to the next step.\n",
              "function _uploadFilesContinue(outputId) {\n",
              "  const outputElement = document.getElementById(outputId);\n",
              "  const steps = outputElement.steps;\n",
              "\n",
              "  const next = steps.next(outputElement.lastPromiseValue);\n",
              "  return Promise.resolve(next.value.promise).then((value) => {\n",
              "    // Cache the last promise value to make it available to the next\n",
              "    // step of the generator.\n",
              "    outputElement.lastPromiseValue = value;\n",
              "    return next.value.response;\n",
              "  });\n",
              "}\n",
              "\n",
              "/**\n",
              " * Generator function which is called between each async step of the upload\n",
              " * process.\n",
              " * @param {string} inputId Element ID of the input file picker element.\n",
              " * @param {string} outputId Element ID of the output display.\n",
              " * @return {!Iterable<!Object>} Iterable of next steps.\n",
              " */\n",
              "function* uploadFilesStep(inputId, outputId) {\n",
              "  const inputElement = document.getElementById(inputId);\n",
              "  inputElement.disabled = false;\n",
              "\n",
              "  const outputElement = document.getElementById(outputId);\n",
              "  outputElement.innerHTML = '';\n",
              "\n",
              "  const pickedPromise = new Promise((resolve) => {\n",
              "    inputElement.addEventListener('change', (e) => {\n",
              "      resolve(e.target.files);\n",
              "    });\n",
              "  });\n",
              "\n",
              "  const cancel = document.createElement('button');\n",
              "  inputElement.parentElement.appendChild(cancel);\n",
              "  cancel.textContent = 'Cancel upload';\n",
              "  const cancelPromise = new Promise((resolve) => {\n",
              "    cancel.onclick = () => {\n",
              "      resolve(null);\n",
              "    };\n",
              "  });\n",
              "\n",
              "  // Wait for the user to pick the files.\n",
              "  const files = yield {\n",
              "    promise: Promise.race([pickedPromise, cancelPromise]),\n",
              "    response: {\n",
              "      action: 'starting',\n",
              "    }\n",
              "  };\n",
              "\n",
              "  cancel.remove();\n",
              "\n",
              "  // Disable the input element since further picks are not allowed.\n",
              "  inputElement.disabled = true;\n",
              "\n",
              "  if (!files) {\n",
              "    return {\n",
              "      response: {\n",
              "        action: 'complete',\n",
              "      }\n",
              "    };\n",
              "  }\n",
              "\n",
              "  for (const file of files) {\n",
              "    const li = document.createElement('li');\n",
              "    li.append(span(file.name, {fontWeight: 'bold'}));\n",
              "    li.append(span(\n",
              "        `(${file.type || 'n/a'}) - ${file.size} bytes, ` +\n",
              "        `last modified: ${\n",
              "            file.lastModifiedDate ? file.lastModifiedDate.toLocaleDateString() :\n",
              "                                    'n/a'} - `));\n",
              "    const percent = span('0% done');\n",
              "    li.appendChild(percent);\n",
              "\n",
              "    outputElement.appendChild(li);\n",
              "\n",
              "    const fileDataPromise = new Promise((resolve) => {\n",
              "      const reader = new FileReader();\n",
              "      reader.onload = (e) => {\n",
              "        resolve(e.target.result);\n",
              "      };\n",
              "      reader.readAsArrayBuffer(file);\n",
              "    });\n",
              "    // Wait for the data to be ready.\n",
              "    let fileData = yield {\n",
              "      promise: fileDataPromise,\n",
              "      response: {\n",
              "        action: 'continue',\n",
              "      }\n",
              "    };\n",
              "\n",
              "    // Use a chunked sending to avoid message size limits. See b/62115660.\n",
              "    let position = 0;\n",
              "    do {\n",
              "      const length = Math.min(fileData.byteLength - position, MAX_PAYLOAD_SIZE);\n",
              "      const chunk = new Uint8Array(fileData, position, length);\n",
              "      position += length;\n",
              "\n",
              "      const base64 = btoa(String.fromCharCode.apply(null, chunk));\n",
              "      yield {\n",
              "        response: {\n",
              "          action: 'append',\n",
              "          file: file.name,\n",
              "          data: base64,\n",
              "        },\n",
              "      };\n",
              "\n",
              "      let percentDone = fileData.byteLength === 0 ?\n",
              "          100 :\n",
              "          Math.round((position / fileData.byteLength) * 100);\n",
              "      percent.textContent = `${percentDone}% done`;\n",
              "\n",
              "    } while (position < fileData.byteLength);\n",
              "  }\n",
              "\n",
              "  // All done.\n",
              "  yield {\n",
              "    response: {\n",
              "      action: 'complete',\n",
              "    }\n",
              "  };\n",
              "}\n",
              "\n",
              "scope.google = scope.google || {};\n",
              "scope.google.colab = scope.google.colab || {};\n",
              "scope.google.colab._files = {\n",
              "  _uploadFiles,\n",
              "  _uploadFilesContinue,\n",
              "};\n",
              "})(self);\n",
              "</script> "
            ]
          },
          "metadata": {}
        },
        {
          "output_type": "stream",
          "name": "stdout",
          "text": [
            "Saving 3.mp4 to 3.mp4\n"
          ]
        }
      ],
      "source": [
        "# from google.colab import files\n",
        "\n",
        "# uploaded = files.upload()\n",
        "\n",
        "# # Move the uploaded video to a specific directory\n",
        "# os.makedirs('videos', exist_ok=True)\n",
        "# for file_name in uploaded.keys():\n",
        "#     os.rename(file_name, os.path.join('videos', file_name))\n",
        "\n"
      ]
    },
    {
      "cell_type": "code",
      "execution_count": null,
      "metadata": {
        "colab": {
          "base_uri": "https://localhost:8080/"
        },
        "id": "8Cb9-o7zyHF1",
        "outputId": "686965c1-db52-40f1-fdd6-9b6db1bf3466"
      },
      "outputs": [
        {
          "output_type": "stream",
          "name": "stdout",
          "text": [
            "1/1 [==============================] - 0s 48ms/step\n",
            "[[2.8614295e-03 2.1590880e-04 9.9665856e-01 2.6406694e-04]]\n",
            "Drive Shot\n"
          ]
        }
      ],
      "source": [
        "# video_path = 'videos/3.mp4'\n",
        "# new_frames = extract_frames(video_path)\n",
        "# new_frames = np.expand_dims(new_frames, axis=0)\n",
        "# new_frames = np.expand_dims(new_frames, axis=-1)\n",
        "\n",
        "# prediction = model.predict(new_frames)\n",
        "# predicted_class = np.argmax(prediction, axis=1)\n",
        "# print(prediction)\n",
        "# shot = {0: 'Defensive Shot', 1: 'Pull Shot', 2: 'Drive Shot', 3: 'Flick Shot'}\n",
        "# print(shot[predicted_class[0]])\n",
        "# # labels = {'Defensive Shot': 0,  'Pull Shot': 1, 'Drive Shot':2, 'Flick Shot':3}\n",
        "# #print('Predicted class:', 'Defensive shot' if predicted_class[0] == 0 else 'Drive Shot')"
      ]
    }
  ],
  "metadata": {
    "colab": {
      "provenance": []
    },
    "kernelspec": {
      "display_name": "Python 3",
      "name": "python3"
    },
    "language_info": {
      "name": "python"
    }
  },
  "nbformat": 4,
  "nbformat_minor": 0
}